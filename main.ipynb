{
 "cells": [
  {
   "cell_type": "code",
   "execution_count": 1,
   "metadata": {},
   "outputs": [],
   "source": [
    "import pandas as pd\n",
    "import numpy as np"
   ]
  },
  {
   "cell_type": "code",
   "execution_count": 2,
   "metadata": {},
   "outputs": [
    {
     "data": {
      "text/html": [
       "<div>\n",
       "<style scoped>\n",
       "    .dataframe tbody tr th:only-of-type {\n",
       "        vertical-align: middle;\n",
       "    }\n",
       "\n",
       "    .dataframe tbody tr th {\n",
       "        vertical-align: top;\n",
       "    }\n",
       "\n",
       "    .dataframe thead th {\n",
       "        text-align: right;\n",
       "    }\n",
       "</style>\n",
       "<table border=\"1\" class=\"dataframe\">\n",
       "  <thead>\n",
       "    <tr style=\"text-align: right;\">\n",
       "      <th></th>\n",
       "      <th>UserID</th>\n",
       "      <th>Gender</th>\n",
       "      <th>Age Group</th>\n",
       "      <th>Top 6 most preferred dishes</th>\n",
       "      <th>laksa</th>\n",
       "      <th>Chili Crab</th>\n",
       "      <th>Char Kway Teow</th>\n",
       "      <th>hainanese chicken rice</th>\n",
       "      <th>Sliced Fish Soup</th>\n",
       "      <th>Fish and Chips</th>\n",
       "      <th>...</th>\n",
       "      <th>Roti Prata</th>\n",
       "      <th>Black Pepper Crab</th>\n",
       "      <th>Roti John</th>\n",
       "      <th>Cereal Prawn</th>\n",
       "      <th>Beef Kway Teow</th>\n",
       "      <th>Katong laksa</th>\n",
       "      <th>Sambal Stingray</th>\n",
       "      <th>Crab Bee Hoon Soup</th>\n",
       "      <th>Satay</th>\n",
       "      <th>sum</th>\n",
       "    </tr>\n",
       "  </thead>\n",
       "  <tbody>\n",
       "    <tr>\n",
       "      <th>0</th>\n",
       "      <td>1</td>\n",
       "      <td>Female</td>\n",
       "      <td>15 - 24</td>\n",
       "      <td>Sliced Fish Soup, Japanese Bento,Curry laksa, ...</td>\n",
       "      <td>0</td>\n",
       "      <td>0</td>\n",
       "      <td>0</td>\n",
       "      <td>0</td>\n",
       "      <td>1</td>\n",
       "      <td>0</td>\n",
       "      <td>...</td>\n",
       "      <td>0</td>\n",
       "      <td>0</td>\n",
       "      <td>0</td>\n",
       "      <td>0</td>\n",
       "      <td>0</td>\n",
       "      <td>0</td>\n",
       "      <td>0</td>\n",
       "      <td>1</td>\n",
       "      <td>0</td>\n",
       "      <td>6</td>\n",
       "    </tr>\n",
       "    <tr>\n",
       "      <th>1</th>\n",
       "      <td>2</td>\n",
       "      <td>Male</td>\n",
       "      <td>15 - 24</td>\n",
       "      <td>Hainanese Chicken Rice, Fish and Chips, Japane...</td>\n",
       "      <td>0</td>\n",
       "      <td>0</td>\n",
       "      <td>0</td>\n",
       "      <td>1</td>\n",
       "      <td>0</td>\n",
       "      <td>1</td>\n",
       "      <td>...</td>\n",
       "      <td>0</td>\n",
       "      <td>0</td>\n",
       "      <td>0</td>\n",
       "      <td>1</td>\n",
       "      <td>0</td>\n",
       "      <td>0</td>\n",
       "      <td>0</td>\n",
       "      <td>0</td>\n",
       "      <td>0</td>\n",
       "      <td>6</td>\n",
       "    </tr>\n",
       "    <tr>\n",
       "      <th>2</th>\n",
       "      <td>3</td>\n",
       "      <td>Male</td>\n",
       "      <td>15 - 24</td>\n",
       "      <td>Char Kway Teow, Hainanese Chicken Rice, Fish a...</td>\n",
       "      <td>0</td>\n",
       "      <td>0</td>\n",
       "      <td>1</td>\n",
       "      <td>1</td>\n",
       "      <td>0</td>\n",
       "      <td>1</td>\n",
       "      <td>...</td>\n",
       "      <td>1</td>\n",
       "      <td>0</td>\n",
       "      <td>1</td>\n",
       "      <td>0</td>\n",
       "      <td>0</td>\n",
       "      <td>0</td>\n",
       "      <td>0</td>\n",
       "      <td>0</td>\n",
       "      <td>0</td>\n",
       "      <td>6</td>\n",
       "    </tr>\n",
       "    <tr>\n",
       "      <th>3</th>\n",
       "      <td>4</td>\n",
       "      <td>Female</td>\n",
       "      <td>15 - 24</td>\n",
       "      <td>Laksa , Hainanese Chicken Rice, Japanese Bento...</td>\n",
       "      <td>1</td>\n",
       "      <td>0</td>\n",
       "      <td>0</td>\n",
       "      <td>1</td>\n",
       "      <td>0</td>\n",
       "      <td>0</td>\n",
       "      <td>...</td>\n",
       "      <td>0</td>\n",
       "      <td>0</td>\n",
       "      <td>0</td>\n",
       "      <td>0</td>\n",
       "      <td>0</td>\n",
       "      <td>0</td>\n",
       "      <td>0</td>\n",
       "      <td>0</td>\n",
       "      <td>0</td>\n",
       "      <td>6</td>\n",
       "    </tr>\n",
       "    <tr>\n",
       "      <th>4</th>\n",
       "      <td>5</td>\n",
       "      <td>Female</td>\n",
       "      <td>15 - 24</td>\n",
       "      <td>Fish and Chips, Japanese Bento, Duck Rice, Hok...</td>\n",
       "      <td>0</td>\n",
       "      <td>0</td>\n",
       "      <td>0</td>\n",
       "      <td>0</td>\n",
       "      <td>0</td>\n",
       "      <td>1</td>\n",
       "      <td>...</td>\n",
       "      <td>0</td>\n",
       "      <td>1</td>\n",
       "      <td>0</td>\n",
       "      <td>1</td>\n",
       "      <td>0</td>\n",
       "      <td>0</td>\n",
       "      <td>0</td>\n",
       "      <td>0</td>\n",
       "      <td>0</td>\n",
       "      <td>6</td>\n",
       "    </tr>\n",
       "  </tbody>\n",
       "</table>\n",
       "<p>5 rows × 29 columns</p>\n",
       "</div>"
      ],
      "text/plain": [
       "   UserID  Gender Age Group  \\\n",
       "0       1  Female   15 - 24   \n",
       "1       2    Male   15 - 24   \n",
       "2       3    Male   15 - 24   \n",
       "3       4  Female   15 - 24   \n",
       "4       5  Female   15 - 24   \n",
       "\n",
       "                         Top 6 most preferred dishes  laksa  Chili Crab  \\\n",
       "0  Sliced Fish Soup, Japanese Bento,Curry laksa, ...      0           0   \n",
       "1  Hainanese Chicken Rice, Fish and Chips, Japane...      0           0   \n",
       "2  Char Kway Teow, Hainanese Chicken Rice, Fish a...      0           0   \n",
       "3  Laksa , Hainanese Chicken Rice, Japanese Bento...      1           0   \n",
       "4  Fish and Chips, Japanese Bento, Duck Rice, Hok...      0           0   \n",
       "\n",
       "   Char Kway Teow  hainanese chicken rice  Sliced Fish Soup  Fish and Chips  \\\n",
       "0               0                       0                 1               0   \n",
       "1               0                       1                 0               1   \n",
       "2               1                       1                 0               1   \n",
       "3               0                       1                 0               0   \n",
       "4               0                       0                 0               1   \n",
       "\n",
       "   ...  Roti Prata  Black Pepper Crab  Roti John  Cereal Prawn  \\\n",
       "0  ...           0                  0          0             0   \n",
       "1  ...           0                  0          0             1   \n",
       "2  ...           1                  0          1             0   \n",
       "3  ...           0                  0          0             0   \n",
       "4  ...           0                  1          0             1   \n",
       "\n",
       "   Beef Kway Teow  Katong laksa  Sambal Stingray  Crab Bee Hoon Soup  Satay  \\\n",
       "0               0             0                0                   1      0   \n",
       "1               0             0                0                   0      0   \n",
       "2               0             0                0                   0      0   \n",
       "3               0             0                0                   0      0   \n",
       "4               0             0                0                   0      0   \n",
       "\n",
       "   sum  \n",
       "0    6  \n",
       "1    6  \n",
       "2    6  \n",
       "3    6  \n",
       "4    6  \n",
       "\n",
       "[5 rows x 29 columns]"
      ]
     },
     "execution_count": 2,
     "metadata": {},
     "output_type": "execute_result"
    }
   ],
   "source": [
    "df = pd.read_csv('CollectedDataset.csv')\n",
    "df.head()"
   ]
  },
  {
   "cell_type": "code",
   "execution_count": null,
   "metadata": {},
   "outputs": [],
   "source": []
  },
  {
   "cell_type": "code",
   "execution_count": 3,
   "metadata": {},
   "outputs": [
    {
     "data": {
      "text/plain": [
       "Index(['UserID', 'Gender', 'Age Group', ' Top 6 most preferred dishes',\n",
       "       'laksa', 'Chili Crab', 'Char Kway Teow', 'hainanese chicken rice',\n",
       "       'Sliced Fish Soup', 'Fish and Chips', 'Chinese Economy Rice',\n",
       "       'Japanese Bento', 'Curry laksa', 'Yu Sheng', 'Duck Rice',\n",
       "       'Fish Head Curry', 'Bak Kut Teh', 'Hokkien Mee', 'Kway Chap',\n",
       "       'Roti Prata', 'Black Pepper Crab', 'Roti John', 'Cereal Prawn',\n",
       "       'Beef Kway Teow', 'Katong laksa', 'Sambal Stingray',\n",
       "       'Crab Bee Hoon Soup', 'Satay', 'sum'],\n",
       "      dtype='object')"
      ]
     },
     "execution_count": 3,
     "metadata": {},
     "output_type": "execute_result"
    }
   ],
   "source": [
    "df.columns"
   ]
  },
  {
   "cell_type": "code",
   "execution_count": 4,
   "metadata": {},
   "outputs": [
    {
     "data": {
      "text/plain": [
       "(359, 29)"
      ]
     },
     "execution_count": 4,
     "metadata": {},
     "output_type": "execute_result"
    }
   ],
   "source": [
    "df.shape"
   ]
  },
  {
   "cell_type": "code",
   "execution_count": 5,
   "metadata": {},
   "outputs": [
    {
     "name": "stdout",
     "output_type": "stream",
     "text": [
      "<class 'pandas.core.frame.DataFrame'>\n",
      "RangeIndex: 359 entries, 0 to 358\n",
      "Data columns (total 29 columns):\n",
      " #   Column                        Non-Null Count  Dtype \n",
      "---  ------                        --------------  ----- \n",
      " 0   UserID                        359 non-null    int64 \n",
      " 1   Gender                        359 non-null    object\n",
      " 2   Age Group                     359 non-null    object\n",
      " 3    Top 6 most preferred dishes  359 non-null    object\n",
      " 4   laksa                         359 non-null    int64 \n",
      " 5   Chili Crab                    359 non-null    int64 \n",
      " 6   Char Kway Teow                359 non-null    int64 \n",
      " 7   hainanese chicken rice        359 non-null    int64 \n",
      " 8   Sliced Fish Soup              359 non-null    int64 \n",
      " 9   Fish and Chips                359 non-null    int64 \n",
      " 10  Chinese Economy Rice          359 non-null    int64 \n",
      " 11  Japanese Bento                359 non-null    int64 \n",
      " 12  Curry laksa                   359 non-null    int64 \n",
      " 13  Yu Sheng                      359 non-null    int64 \n",
      " 14  Duck Rice                     359 non-null    int64 \n",
      " 15  Fish Head Curry               359 non-null    int64 \n",
      " 16  Bak Kut Teh                   359 non-null    int64 \n",
      " 17  Hokkien Mee                   359 non-null    int64 \n",
      " 18  Kway Chap                     359 non-null    int64 \n",
      " 19  Roti Prata                    359 non-null    int64 \n",
      " 20  Black Pepper Crab             359 non-null    int64 \n",
      " 21  Roti John                     359 non-null    int64 \n",
      " 22  Cereal Prawn                  359 non-null    int64 \n",
      " 23  Beef Kway Teow                359 non-null    int64 \n",
      " 24  Katong laksa                  359 non-null    int64 \n",
      " 25  Sambal Stingray               359 non-null    int64 \n",
      " 26  Crab Bee Hoon Soup            359 non-null    int64 \n",
      " 27  Satay                         359 non-null    int64 \n",
      " 28  sum                           359 non-null    int64 \n",
      "dtypes: int64(26), object(3)\n",
      "memory usage: 81.5+ KB\n"
     ]
    }
   ],
   "source": [
    "df.info()"
   ]
  },
  {
   "cell_type": "code",
   "execution_count": 6,
   "metadata": {},
   "outputs": [
    {
     "data": {
      "text/html": [
       "<div>\n",
       "<style scoped>\n",
       "    .dataframe tbody tr th:only-of-type {\n",
       "        vertical-align: middle;\n",
       "    }\n",
       "\n",
       "    .dataframe tbody tr th {\n",
       "        vertical-align: top;\n",
       "    }\n",
       "\n",
       "    .dataframe thead th {\n",
       "        text-align: right;\n",
       "    }\n",
       "</style>\n",
       "<table border=\"1\" class=\"dataframe\">\n",
       "  <thead>\n",
       "    <tr style=\"text-align: right;\">\n",
       "      <th></th>\n",
       "      <th>UserID</th>\n",
       "      <th>laksa</th>\n",
       "      <th>Chili Crab</th>\n",
       "      <th>Char Kway Teow</th>\n",
       "      <th>hainanese chicken rice</th>\n",
       "      <th>Sliced Fish Soup</th>\n",
       "      <th>Fish and Chips</th>\n",
       "      <th>Chinese Economy Rice</th>\n",
       "      <th>Japanese Bento</th>\n",
       "      <th>Curry laksa</th>\n",
       "      <th>...</th>\n",
       "      <th>Roti Prata</th>\n",
       "      <th>Black Pepper Crab</th>\n",
       "      <th>Roti John</th>\n",
       "      <th>Cereal Prawn</th>\n",
       "      <th>Beef Kway Teow</th>\n",
       "      <th>Katong laksa</th>\n",
       "      <th>Sambal Stingray</th>\n",
       "      <th>Crab Bee Hoon Soup</th>\n",
       "      <th>Satay</th>\n",
       "      <th>sum</th>\n",
       "    </tr>\n",
       "  </thead>\n",
       "  <tbody>\n",
       "    <tr>\n",
       "      <th>count</th>\n",
       "      <td>359.000000</td>\n",
       "      <td>359.000000</td>\n",
       "      <td>359.000000</td>\n",
       "      <td>359.000000</td>\n",
       "      <td>359.000000</td>\n",
       "      <td>359.000000</td>\n",
       "      <td>359.000000</td>\n",
       "      <td>359.000000</td>\n",
       "      <td>359.000000</td>\n",
       "      <td>359.000000</td>\n",
       "      <td>...</td>\n",
       "      <td>359.000000</td>\n",
       "      <td>359.000000</td>\n",
       "      <td>359.000000</td>\n",
       "      <td>359.000000</td>\n",
       "      <td>359.000000</td>\n",
       "      <td>359.000000</td>\n",
       "      <td>359.000000</td>\n",
       "      <td>359.000000</td>\n",
       "      <td>359.000000</td>\n",
       "      <td>359.0</td>\n",
       "    </tr>\n",
       "    <tr>\n",
       "      <th>mean</th>\n",
       "      <td>180.000000</td>\n",
       "      <td>0.339833</td>\n",
       "      <td>0.284123</td>\n",
       "      <td>0.342618</td>\n",
       "      <td>0.523677</td>\n",
       "      <td>0.403900</td>\n",
       "      <td>0.323120</td>\n",
       "      <td>0.284123</td>\n",
       "      <td>0.353760</td>\n",
       "      <td>0.153203</td>\n",
       "      <td>...</td>\n",
       "      <td>0.284123</td>\n",
       "      <td>0.136490</td>\n",
       "      <td>0.077994</td>\n",
       "      <td>0.214485</td>\n",
       "      <td>0.077994</td>\n",
       "      <td>0.164345</td>\n",
       "      <td>0.239554</td>\n",
       "      <td>0.233983</td>\n",
       "      <td>0.214485</td>\n",
       "      <td>6.0</td>\n",
       "    </tr>\n",
       "    <tr>\n",
       "      <th>std</th>\n",
       "      <td>103.778611</td>\n",
       "      <td>0.474313</td>\n",
       "      <td>0.451625</td>\n",
       "      <td>0.475247</td>\n",
       "      <td>0.500136</td>\n",
       "      <td>0.491363</td>\n",
       "      <td>0.468321</td>\n",
       "      <td>0.451625</td>\n",
       "      <td>0.478803</td>\n",
       "      <td>0.360686</td>\n",
       "      <td>...</td>\n",
       "      <td>0.451625</td>\n",
       "      <td>0.343788</td>\n",
       "      <td>0.268537</td>\n",
       "      <td>0.411037</td>\n",
       "      <td>0.268537</td>\n",
       "      <td>0.371106</td>\n",
       "      <td>0.427407</td>\n",
       "      <td>0.423953</td>\n",
       "      <td>0.411037</td>\n",
       "      <td>0.0</td>\n",
       "    </tr>\n",
       "    <tr>\n",
       "      <th>min</th>\n",
       "      <td>1.000000</td>\n",
       "      <td>0.000000</td>\n",
       "      <td>0.000000</td>\n",
       "      <td>0.000000</td>\n",
       "      <td>0.000000</td>\n",
       "      <td>0.000000</td>\n",
       "      <td>0.000000</td>\n",
       "      <td>0.000000</td>\n",
       "      <td>0.000000</td>\n",
       "      <td>0.000000</td>\n",
       "      <td>...</td>\n",
       "      <td>0.000000</td>\n",
       "      <td>0.000000</td>\n",
       "      <td>0.000000</td>\n",
       "      <td>0.000000</td>\n",
       "      <td>0.000000</td>\n",
       "      <td>0.000000</td>\n",
       "      <td>0.000000</td>\n",
       "      <td>0.000000</td>\n",
       "      <td>0.000000</td>\n",
       "      <td>6.0</td>\n",
       "    </tr>\n",
       "    <tr>\n",
       "      <th>25%</th>\n",
       "      <td>90.500000</td>\n",
       "      <td>0.000000</td>\n",
       "      <td>0.000000</td>\n",
       "      <td>0.000000</td>\n",
       "      <td>0.000000</td>\n",
       "      <td>0.000000</td>\n",
       "      <td>0.000000</td>\n",
       "      <td>0.000000</td>\n",
       "      <td>0.000000</td>\n",
       "      <td>0.000000</td>\n",
       "      <td>...</td>\n",
       "      <td>0.000000</td>\n",
       "      <td>0.000000</td>\n",
       "      <td>0.000000</td>\n",
       "      <td>0.000000</td>\n",
       "      <td>0.000000</td>\n",
       "      <td>0.000000</td>\n",
       "      <td>0.000000</td>\n",
       "      <td>0.000000</td>\n",
       "      <td>0.000000</td>\n",
       "      <td>6.0</td>\n",
       "    </tr>\n",
       "    <tr>\n",
       "      <th>50%</th>\n",
       "      <td>180.000000</td>\n",
       "      <td>0.000000</td>\n",
       "      <td>0.000000</td>\n",
       "      <td>0.000000</td>\n",
       "      <td>1.000000</td>\n",
       "      <td>0.000000</td>\n",
       "      <td>0.000000</td>\n",
       "      <td>0.000000</td>\n",
       "      <td>0.000000</td>\n",
       "      <td>0.000000</td>\n",
       "      <td>...</td>\n",
       "      <td>0.000000</td>\n",
       "      <td>0.000000</td>\n",
       "      <td>0.000000</td>\n",
       "      <td>0.000000</td>\n",
       "      <td>0.000000</td>\n",
       "      <td>0.000000</td>\n",
       "      <td>0.000000</td>\n",
       "      <td>0.000000</td>\n",
       "      <td>0.000000</td>\n",
       "      <td>6.0</td>\n",
       "    </tr>\n",
       "    <tr>\n",
       "      <th>75%</th>\n",
       "      <td>269.500000</td>\n",
       "      <td>1.000000</td>\n",
       "      <td>1.000000</td>\n",
       "      <td>1.000000</td>\n",
       "      <td>1.000000</td>\n",
       "      <td>1.000000</td>\n",
       "      <td>1.000000</td>\n",
       "      <td>1.000000</td>\n",
       "      <td>1.000000</td>\n",
       "      <td>0.000000</td>\n",
       "      <td>...</td>\n",
       "      <td>1.000000</td>\n",
       "      <td>0.000000</td>\n",
       "      <td>0.000000</td>\n",
       "      <td>0.000000</td>\n",
       "      <td>0.000000</td>\n",
       "      <td>0.000000</td>\n",
       "      <td>0.000000</td>\n",
       "      <td>0.000000</td>\n",
       "      <td>0.000000</td>\n",
       "      <td>6.0</td>\n",
       "    </tr>\n",
       "    <tr>\n",
       "      <th>max</th>\n",
       "      <td>359.000000</td>\n",
       "      <td>1.000000</td>\n",
       "      <td>1.000000</td>\n",
       "      <td>1.000000</td>\n",
       "      <td>1.000000</td>\n",
       "      <td>1.000000</td>\n",
       "      <td>1.000000</td>\n",
       "      <td>1.000000</td>\n",
       "      <td>1.000000</td>\n",
       "      <td>1.000000</td>\n",
       "      <td>...</td>\n",
       "      <td>1.000000</td>\n",
       "      <td>1.000000</td>\n",
       "      <td>1.000000</td>\n",
       "      <td>1.000000</td>\n",
       "      <td>1.000000</td>\n",
       "      <td>1.000000</td>\n",
       "      <td>1.000000</td>\n",
       "      <td>1.000000</td>\n",
       "      <td>1.000000</td>\n",
       "      <td>6.0</td>\n",
       "    </tr>\n",
       "  </tbody>\n",
       "</table>\n",
       "<p>8 rows × 26 columns</p>\n",
       "</div>"
      ],
      "text/plain": [
       "           UserID       laksa  Chili Crab  Char Kway Teow  \\\n",
       "count  359.000000  359.000000  359.000000      359.000000   \n",
       "mean   180.000000    0.339833    0.284123        0.342618   \n",
       "std    103.778611    0.474313    0.451625        0.475247   \n",
       "min      1.000000    0.000000    0.000000        0.000000   \n",
       "25%     90.500000    0.000000    0.000000        0.000000   \n",
       "50%    180.000000    0.000000    0.000000        0.000000   \n",
       "75%    269.500000    1.000000    1.000000        1.000000   \n",
       "max    359.000000    1.000000    1.000000        1.000000   \n",
       "\n",
       "       hainanese chicken rice  Sliced Fish Soup  Fish and Chips  \\\n",
       "count              359.000000        359.000000      359.000000   \n",
       "mean                 0.523677          0.403900        0.323120   \n",
       "std                  0.500136          0.491363        0.468321   \n",
       "min                  0.000000          0.000000        0.000000   \n",
       "25%                  0.000000          0.000000        0.000000   \n",
       "50%                  1.000000          0.000000        0.000000   \n",
       "75%                  1.000000          1.000000        1.000000   \n",
       "max                  1.000000          1.000000        1.000000   \n",
       "\n",
       "       Chinese Economy Rice  Japanese Bento  Curry laksa  ...  Roti Prata  \\\n",
       "count            359.000000      359.000000   359.000000  ...  359.000000   \n",
       "mean               0.284123        0.353760     0.153203  ...    0.284123   \n",
       "std                0.451625        0.478803     0.360686  ...    0.451625   \n",
       "min                0.000000        0.000000     0.000000  ...    0.000000   \n",
       "25%                0.000000        0.000000     0.000000  ...    0.000000   \n",
       "50%                0.000000        0.000000     0.000000  ...    0.000000   \n",
       "75%                1.000000        1.000000     0.000000  ...    1.000000   \n",
       "max                1.000000        1.000000     1.000000  ...    1.000000   \n",
       "\n",
       "       Black Pepper Crab   Roti John  Cereal Prawn  Beef Kway Teow  \\\n",
       "count         359.000000  359.000000    359.000000      359.000000   \n",
       "mean            0.136490    0.077994      0.214485        0.077994   \n",
       "std             0.343788    0.268537      0.411037        0.268537   \n",
       "min             0.000000    0.000000      0.000000        0.000000   \n",
       "25%             0.000000    0.000000      0.000000        0.000000   \n",
       "50%             0.000000    0.000000      0.000000        0.000000   \n",
       "75%             0.000000    0.000000      0.000000        0.000000   \n",
       "max             1.000000    1.000000      1.000000        1.000000   \n",
       "\n",
       "       Katong laksa  Sambal Stingray  Crab Bee Hoon Soup       Satay    sum  \n",
       "count    359.000000       359.000000          359.000000  359.000000  359.0  \n",
       "mean       0.164345         0.239554            0.233983    0.214485    6.0  \n",
       "std        0.371106         0.427407            0.423953    0.411037    0.0  \n",
       "min        0.000000         0.000000            0.000000    0.000000    6.0  \n",
       "25%        0.000000         0.000000            0.000000    0.000000    6.0  \n",
       "50%        0.000000         0.000000            0.000000    0.000000    6.0  \n",
       "75%        0.000000         0.000000            0.000000    0.000000    6.0  \n",
       "max        1.000000         1.000000            1.000000    1.000000    6.0  \n",
       "\n",
       "[8 rows x 26 columns]"
      ]
     },
     "execution_count": 6,
     "metadata": {},
     "output_type": "execute_result"
    }
   ],
   "source": [
    "df.describe()"
   ]
  },
  {
   "cell_type": "code",
   "execution_count": 7,
   "metadata": {},
   "outputs": [
    {
     "data": {
      "text/plain": [
       "UserID                          0\n",
       "Gender                          0\n",
       "Age Group                       0\n",
       " Top 6 most preferred dishes    0\n",
       "laksa                           0\n",
       "Chili Crab                      0\n",
       "Char Kway Teow                  0\n",
       "hainanese chicken rice          0\n",
       "Sliced Fish Soup                0\n",
       "Fish and Chips                  0\n",
       "Chinese Economy Rice            0\n",
       "Japanese Bento                  0\n",
       "Curry laksa                     0\n",
       "Yu Sheng                        0\n",
       "Duck Rice                       0\n",
       "Fish Head Curry                 0\n",
       "Bak Kut Teh                     0\n",
       "Hokkien Mee                     0\n",
       "Kway Chap                       0\n",
       "Roti Prata                      0\n",
       "Black Pepper Crab               0\n",
       "Roti John                       0\n",
       "Cereal Prawn                    0\n",
       "Beef Kway Teow                  0\n",
       "Katong laksa                    0\n",
       "Sambal Stingray                 0\n",
       "Crab Bee Hoon Soup              0\n",
       "Satay                           0\n",
       "sum                             0\n",
       "dtype: int64"
      ]
     },
     "execution_count": 7,
     "metadata": {},
     "output_type": "execute_result"
    }
   ],
   "source": [
    "df.isnull().sum()"
   ]
  },
  {
   "cell_type": "markdown",
   "metadata": {},
   "source": [
    "\n",
    "# Since there is no null data , No data filling is required for our dataset"
   ]
  },
  {
   "cell_type": "code",
   "execution_count": 8,
   "metadata": {},
   "outputs": [
    {
     "data": {
      "text/plain": [
       "Index(['UserID', 'Gender', 'Age_Group', '_Top_6_most_preferred_dishes',\n",
       "       'laksa', 'Chili_Crab', 'Char_Kway_Teow', 'hainanese_chicken_rice',\n",
       "       'Sliced_Fish_Soup', 'Fish_and_Chips', 'Chinese_Economy_Rice',\n",
       "       'Japanese_Bento', 'Curry_laksa', 'Yu_Sheng', 'Duck_Rice',\n",
       "       'Fish_Head_Curry', 'Bak_Kut_Teh', 'Hokkien_Mee', 'Kway_Chap',\n",
       "       'Roti_Prata', 'Black_Pepper_Crab', 'Roti_John', 'Cereal_Prawn',\n",
       "       'Beef_Kway_Teow', 'Katong_laksa', 'Sambal_Stingray',\n",
       "       'Crab_Bee_Hoon_Soup', 'Satay', 'sum'],\n",
       "      dtype='object')"
      ]
     },
     "execution_count": 8,
     "metadata": {},
     "output_type": "execute_result"
    }
   ],
   "source": [
    "df.columns = df.columns.str.replace(' ','_')\n",
    "df.columns"
   ]
  },
  {
   "cell_type": "code",
   "execution_count": 9,
   "metadata": {},
   "outputs": [
    {
     "data": {
      "image/png": "[encoded data removed]",
      "text/plain": [
       "<Figure size 800x500 with 1 Axes>"
      ]
     },
     "metadata": {},
     "output_type": "display_data"
    }
   ],
   "source": [
    "import matplotlib.pyplot as plt\n",
    "graph = df['Age_Group'].value_counts().plot(kind='barh', figsize=[8,5], fontsize=15, color = \"Red\")\n",
    "graph.invert_yaxis()"
   ]
  },
  {
   "cell_type": "code",
   "execution_count": 10,
   "metadata": {},
   "outputs": [
    {
     "data": {
      "text/plain": [
       "array(['15 - 24', '14 and below', '25 - 54', '55 - 64', '65 and above'],\n",
       "      dtype=object)"
      ]
     },
     "execution_count": 10,
     "metadata": {},
     "output_type": "execute_result"
    }
   ],
   "source": [
    "df[\"Age_Group\"].unique()"
   ]
  },
  {
   "cell_type": "code",
   "execution_count": 11,
   "metadata": {},
   "outputs": [],
   "source": [
    "df[\"Age_Group\"]=df[\"Age_Group\"].map({'15 - 24':\"1\",\n",
    "'14 and below':\"2\",'25 - 54':\"3\",'55 - 64':\"4\",'65 and above':\"5\"})"
   ]
  },
  {
   "cell_type": "code",
   "execution_count": 12,
   "metadata": {},
   "outputs": [
    {
     "data": {
      "text/plain": [
       "0      1\n",
       "1      1\n",
       "2      1\n",
       "3      1\n",
       "4      1\n",
       "      ..\n",
       "354    3\n",
       "355    3\n",
       "356    1\n",
       "357    4\n",
       "358    2\n",
       "Name: Age_Group, Length: 359, dtype: object"
      ]
     },
     "execution_count": 12,
     "metadata": {},
     "output_type": "execute_result"
    }
   ],
   "source": [
    "df[\"Age_Group\"]"
   ]
  },
  {
   "cell_type": "code",
   "execution_count": 13,
   "metadata": {},
   "outputs": [],
   "source": [
    "df[\"Gender\"] = df[\"Gender\"].map({\"Female\" : \"0\" , \"Male\" : \"1\"})"
   ]
  },
  {
   "cell_type": "code",
   "execution_count": 14,
   "metadata": {},
   "outputs": [
    {
     "data": {
      "text/plain": [
       "0      0\n",
       "1      1\n",
       "2      1\n",
       "3      0\n",
       "4      0\n",
       "      ..\n",
       "354    0\n",
       "355    1\n",
       "356    1\n",
       "357    0\n",
       "358    1\n",
       "Name: Gender, Length: 359, dtype: object"
      ]
     },
     "execution_count": 14,
     "metadata": {},
     "output_type": "execute_result"
    }
   ],
   "source": [
    "df[\"Gender\"]"
   ]
  },
  {
   "cell_type": "code",
   "execution_count": null,
   "metadata": {},
   "outputs": [],
   "source": []
  },
  {
   "cell_type": "code",
   "execution_count": null,
   "metadata": {},
   "outputs": [],
   "source": []
  },
  {
   "cell_type": "code",
   "execution_count": 15,
   "metadata": {},
   "outputs": [
    {
     "data": {
      "text/plain": [
       "0      Sliced Fish Soup, Japanese Bento,Curry laksa, ...\n",
       "1      Hainanese Chicken Rice, Fish and Chips, Japane...\n",
       "2      Char Kway Teow, Hainanese Chicken Rice, Fish a...\n",
       "3      Laksa , Hainanese Chicken Rice, Japanese Bento...\n",
       "4      Fish and Chips, Japanese Bento, Duck Rice, Hok...\n",
       "                             ...                        \n",
       "354    Laksa , Char Kway Teow, Hokkien Mee, Kway Chap...\n",
       "355    Chili Crab, Duck Rice, Fish Head Curry, Bak Ku...\n",
       "356    Laksa , Hainanese Chicken Rice, Fish and Chips...\n",
       "357    Laksa , Japanese Bento, Fish Head Curry, Kway ...\n",
       "358    Laksa , Hainanese Chicken Rice, Fish and Chips...\n",
       "Name: _Top_6_most_preferred_dishes, Length: 359, dtype: object"
      ]
     },
     "execution_count": 15,
     "metadata": {},
     "output_type": "execute_result"
    }
   ],
   "source": [
    "df[\"_Top_6_most_preferred_dishes\"]"
   ]
  },
  {
   "cell_type": "markdown",
   "metadata": {},
   "source": [
    "# This Creates a new Column with an object type"
   ]
  },
  {
   "cell_type": "code",
   "execution_count": 16,
   "metadata": {},
   "outputs": [],
   "source": [
    "df[\"var\"] = df[\"Age_Group\"]+\" \"+df[\"Gender\"]+' '+df[\"_Top_6_most_preferred_dishes\"]"
   ]
  },
  {
   "cell_type": "code",
   "execution_count": 17,
   "metadata": {},
   "outputs": [
    {
     "data": {
      "text/plain": [
       "0      1 0 Sliced Fish Soup, Japanese Bento,Curry lak...\n",
       "1      1 1 Hainanese Chicken Rice, Fish and Chips, Ja...\n",
       "2      1 1 Char Kway Teow, Hainanese Chicken Rice, Fi...\n",
       "3      1 0 Laksa , Hainanese Chicken Rice, Japanese B...\n",
       "4      1 0 Fish and Chips, Japanese Bento, Duck Rice,...\n",
       "                             ...                        \n",
       "354    3 0 Laksa , Char Kway Teow, Hokkien Mee, Kway ...\n",
       "355    3 1 Chili Crab, Duck Rice, Fish Head Curry, Ba...\n",
       "356    1 1 Laksa , Hainanese Chicken Rice, Fish and C...\n",
       "357    4 0 Laksa , Japanese Bento, Fish Head Curry, K...\n",
       "358    2 1 Laksa , Hainanese Chicken Rice, Fish and C...\n",
       "Name: var, Length: 359, dtype: object"
      ]
     },
     "execution_count": 17,
     "metadata": {},
     "output_type": "execute_result"
    }
   ],
   "source": [
    "df[\"var\"]"
   ]
  },
  {
   "cell_type": "code",
   "execution_count": null,
   "metadata": {},
   "outputs": [],
   "source": []
  },
  {
   "cell_type": "code",
   "execution_count": null,
   "metadata": {},
   "outputs": [],
   "source": []
  },
  {
   "cell_type": "code",
   "execution_count": null,
   "metadata": {},
   "outputs": [],
   "source": []
  },
  {
   "cell_type": "code",
   "execution_count": null,
   "metadata": {},
   "outputs": [],
   "source": []
  },
  {
   "cell_type": "markdown",
   "metadata": {},
   "source": [
    "# We Take preference from our user"
   ]
  },
  {
   "cell_type": "code",
   "execution_count": 18,
   "metadata": {},
   "outputs": [
    {
     "name": "stdout",
     "output_type": "stream",
     "text": [
      "Enter Your Age :: 33\n"
     ]
    },
    {
     "data": {
      "text/plain": [
       "'3'"
      ]
     },
     "execution_count": 18,
     "metadata": {},
     "output_type": "execute_result"
    }
   ],
   "source": [
    "def Get_age():\n",
    "    while True:\n",
    "        try:\n",
    "            age = int(input(\"Enter Your Age :: \"))\n",
    "            if (age<=14):\n",
    "                return 1\n",
    "            elif ((age>=15) and (age<=24)):\n",
    "                return 2\n",
    "            elif ((age>=25 and age<=54)):\n",
    "                return 3\n",
    "            elif ((age>=55 and age<=64)):\n",
    "                return 4\n",
    "            else:\n",
    "                return 5\n",
    "        except ValueError:\n",
    "            print(\"Enter an Integer only !!\")\n",
    "            continue\n",
    "\n",
    "age = str(Get_age())\n",
    "age"
   ]
  },
  {
   "cell_type": "code",
   "execution_count": 19,
   "metadata": {},
   "outputs": [],
   "source": [
    "# if (age<=14):\n",
    "#     age_group='1'\n",
    "# elif ((age>=15) & (age<=24)):\n",
    "#     age_group='2'\n",
    "# elif (age>=25 & age<=54):\n",
    "#     age_group='3'\n",
    "# elif (age>=55 & age<=64):\n",
    "#     age_group='4'\n",
    "# else:\n",
    "#     age_group='5'"
   ]
  },
  {
   "cell_type": "code",
   "execution_count": 20,
   "metadata": {},
   "outputs": [],
   "source": [
    "# print(age_group)"
   ]
  },
  {
   "cell_type": "code",
   "execution_count": 21,
   "metadata": {},
   "outputs": [
    {
     "name": "stdout",
     "output_type": "stream",
     "text": [
      "Enter your gender :: male\n"
     ]
    },
    {
     "data": {
      "text/plain": [
       "'1'"
      ]
     },
     "execution_count": 21,
     "metadata": {},
     "output_type": "execute_result"
    }
   ],
   "source": [
    "def Getgen():\n",
    "    while True :\n",
    "        gender = input(\"Enter your gender :: \")\n",
    "        gender = gender.capitalize()\n",
    "        if gender == \"Male\":\n",
    "            return \"1\"\n",
    "        elif gender == \"Female\":\n",
    "            return \"0\"\n",
    "        else :\n",
    "            print(\"Enter Only Male or Female\")\n",
    "\n",
    "gender = Getgen()\n",
    "gender"
   ]
  },
  {
   "cell_type": "code",
   "execution_count": 22,
   "metadata": {},
   "outputs": [],
   "source": [
    "# gender = input(\"please enter your gender\")\n",
    "# gender = gender.capitalize()\n",
    "# gender"
   ]
  },
  {
   "cell_type": "code",
   "execution_count": 23,
   "metadata": {},
   "outputs": [
    {
     "name": "stdout",
     "output_type": "stream",
     "text": [
      "Enter One preferred Dish Name :: chili crab\n"
     ]
    },
    {
     "data": {
      "text/plain": [
       "'Chili Crab'"
      ]
     },
     "execution_count": 23,
     "metadata": {},
     "output_type": "execute_result"
    }
   ],
   "source": [
    "dish = input(\"Enter One preferred Dish Name :: \").title()\n",
    "dish"
   ]
  },
  {
   "cell_type": "code",
   "execution_count": 24,
   "metadata": {},
   "outputs": [],
   "source": [
    "# dish= input(\"please enter one dish\")\n",
    "# dish = dish.capitalize()"
   ]
  },
  {
   "cell_type": "markdown",
   "metadata": {},
   "source": [
    "## This variable is going to be transformed into numbers \n"
   ]
  },
  {
   "cell_type": "code",
   "execution_count": 25,
   "metadata": {},
   "outputs": [
    {
     "data": {
      "text/plain": [
       "'3 1 Chili Crab'"
      ]
     },
     "execution_count": 25,
     "metadata": {},
     "output_type": "execute_result"
    }
   ],
   "source": [
    "inp = age + ' ' + gender + ' '+ dish\n",
    "inp"
   ]
  },
  {
   "cell_type": "markdown",
   "metadata": {},
   "source": [
    "## TfidfVectorizer is used to turn the food names into numbers/vectors"
   ]
  },
  {
   "cell_type": "code",
   "execution_count": 26,
   "metadata": {},
   "outputs": [],
   "source": [
    "from sklearn.feature_extraction.text import TfidfVectorizer"
   ]
  },
  {
   "cell_type": "markdown",
   "metadata": {},
   "source": [
    "## initallizeing our class\n"
   ]
  },
  {
   "cell_type": "code",
   "execution_count": 27,
   "metadata": {},
   "outputs": [],
   "source": [
    "vectorizer = TfidfVectorizer()"
   ]
  },
  {
   "cell_type": "markdown",
   "metadata": {},
   "source": [
    "## We use this vectorizer to turn our set of food names into a matrix i.e sets of numbers"
   ]
  },
  {
   "cell_type": "code",
   "execution_count": 28,
   "metadata": {},
   "outputs": [],
   "source": [
    "tfidf_matrix_train = vectorizer.fit_transform(df['var'])"
   ]
  },
  {
   "cell_type": "code",
   "execution_count": 29,
   "metadata": {},
   "outputs": [
    {
     "data": {
      "text/plain": [
       "<359x43 sparse matrix of type '<class 'numpy.float64'>'\n",
       "\twith 4829 stored elements in Compressed Sparse Row format>"
      ]
     },
     "execution_count": 29,
     "metadata": {},
     "output_type": "execute_result"
    }
   ],
   "source": [
    "tfidf_matrix_train"
   ]
  },
  {
   "cell_type": "code",
   "execution_count": 30,
   "metadata": {},
   "outputs": [
    {
     "data": {
      "text/plain": [
       "<1x43 sparse matrix of type '<class 'numpy.float64'>'\n",
       "\twith 2 stored elements in Compressed Sparse Row format>"
      ]
     },
     "execution_count": 30,
     "metadata": {},
     "output_type": "execute_result"
    }
   ],
   "source": [
    "## We use this vectorizer to turn our preference into a matrix i.e sets of numbers\n",
    "tfidf_matrix_test = vectorizer.transform([inp])\n",
    "\n",
    "tfidf_matrix_test"
   ]
  },
  {
   "cell_type": "markdown",
   "metadata": {},
   "source": [
    "## This Cosine_similarity is used to compute the similarity btw our preference and top most preferred\n"
   ]
  },
  {
   "cell_type": "code",
   "execution_count": 36,
   "metadata": {},
   "outputs": [],
   "source": [
    "from sklearn.metrics.pairwise import cosine_similarity"
   ]
  },
  {
   "cell_type": "markdown",
   "metadata": {},
   "source": [
    "## This will compare our preference with the \"var\" \n"
   ]
  },
  {
   "cell_type": "code",
   "execution_count": 37,
   "metadata": {},
   "outputs": [
    {
     "data": {
      "text/plain": [
       "array([[0.11951034],\n",
       "       [0.        ],\n",
       "       [0.        ],\n",
       "       [0.        ],\n",
       "       [0.11602996],\n",
       "       [0.        ],\n",
       "       [0.4472144 ],\n",
       "       [0.        ],\n",
       "       [0.41188529],\n",
       "       [0.        ],\n",
       "       [0.        ],\n",
       "       [0.        ],\n",
       "       [0.37072416],\n",
       "       [0.12784328],\n",
       "       [0.        ],\n",
       "       [0.11311272],\n",
       "       [0.        ],\n",
       "       [0.        ],\n",
       "       [0.        ],\n",
       "       [0.        ],\n",
       "       [0.11072382],\n",
       "       [0.        ],\n",
       "       [0.33206538],\n",
       "       [0.        ],\n",
       "       [0.38892579],\n",
       "       [0.37003821],\n",
       "       [0.47050436],\n",
       "       [0.        ],\n",
       "       [0.        ],\n",
       "       [0.36937111],\n",
       "       [0.        ],\n",
       "       [0.        ],\n",
       "       [0.        ],\n",
       "       [0.        ],\n",
       "       [0.        ],\n",
       "       [0.        ],\n",
       "       [0.        ],\n",
       "       [0.        ],\n",
       "       [0.        ],\n",
       "       [0.        ],\n",
       "       [0.441953  ],\n",
       "       [0.34978404],\n",
       "       [0.        ],\n",
       "       [0.3772077 ],\n",
       "       [0.10445555],\n",
       "       [0.34978404],\n",
       "       [0.36053141],\n",
       "       [0.37530099],\n",
       "       [0.37236566],\n",
       "       [0.        ],\n",
       "       [0.37777883],\n",
       "       [0.43894575],\n",
       "       [0.        ],\n",
       "       [0.38623054],\n",
       "       [0.        ],\n",
       "       [0.40381167],\n",
       "       [0.39230265],\n",
       "       [0.38529081],\n",
       "       [0.39511741],\n",
       "       [0.        ],\n",
       "       [0.        ],\n",
       "       [0.46494972],\n",
       "       [0.        ],\n",
       "       [0.11335946],\n",
       "       [0.        ],\n",
       "       [0.39068715],\n",
       "       [0.        ],\n",
       "       [0.        ],\n",
       "       [0.        ],\n",
       "       [0.        ],\n",
       "       [0.        ],\n",
       "       [0.        ],\n",
       "       [0.3316412 ],\n",
       "       [0.3112865 ],\n",
       "       [0.        ],\n",
       "       [0.        ],\n",
       "       [0.42552925],\n",
       "       [0.36296219],\n",
       "       [0.        ],\n",
       "       [0.        ],\n",
       "       [0.35932666],\n",
       "       [0.37296081],\n",
       "       [0.36608388],\n",
       "       [0.44013658],\n",
       "       [0.10929145],\n",
       "       [0.        ],\n",
       "       [0.43633218],\n",
       "       [0.35729356],\n",
       "       [0.21126861],\n",
       "       [0.10822561],\n",
       "       [0.        ],\n",
       "       [0.        ],\n",
       "       [0.40048774],\n",
       "       [0.1144985 ],\n",
       "       [0.37371365],\n",
       "       [0.37404411],\n",
       "       [0.43115879],\n",
       "       [0.1273972 ],\n",
       "       [0.44594569],\n",
       "       [0.        ],\n",
       "       [0.        ],\n",
       "       [0.        ],\n",
       "       [0.11516641],\n",
       "       [0.3954314 ],\n",
       "       [0.        ],\n",
       "       [0.2119699 ],\n",
       "       [0.        ],\n",
       "       [0.        ],\n",
       "       [0.        ],\n",
       "       [0.12147978],\n",
       "       [0.        ],\n",
       "       [0.        ],\n",
       "       [0.        ],\n",
       "       [0.        ],\n",
       "       [0.36299277],\n",
       "       [0.        ],\n",
       "       [0.        ],\n",
       "       [0.        ],\n",
       "       [0.        ],\n",
       "       [0.        ],\n",
       "       [0.48341548],\n",
       "       [0.11500075],\n",
       "       [0.        ],\n",
       "       [0.        ],\n",
       "       [0.11585865],\n",
       "       [0.39176133],\n",
       "       [0.        ],\n",
       "       [0.34629389],\n",
       "       [0.        ],\n",
       "       [0.        ],\n",
       "       [0.10961013],\n",
       "       [0.36723174],\n",
       "       [0.12270475],\n",
       "       [0.        ],\n",
       "       [0.        ],\n",
       "       [0.12054578],\n",
       "       [0.46289492],\n",
       "       [0.11697166],\n",
       "       [0.        ],\n",
       "       [0.        ],\n",
       "       [0.11162569],\n",
       "       [0.42263077],\n",
       "       [0.34548477],\n",
       "       [0.35800899],\n",
       "       [0.        ],\n",
       "       [0.21495901],\n",
       "       [0.31568401],\n",
       "       [0.        ],\n",
       "       [0.10074679],\n",
       "       [0.        ],\n",
       "       [0.30927077],\n",
       "       [0.42753123],\n",
       "       [0.        ],\n",
       "       [0.33186851],\n",
       "       [0.1119155 ],\n",
       "       [0.        ],\n",
       "       [0.11060409],\n",
       "       [0.31061657],\n",
       "       [0.        ],\n",
       "       [0.        ],\n",
       "       [0.11774826],\n",
       "       [0.40348831],\n",
       "       [0.41136704],\n",
       "       [0.3613313 ],\n",
       "       [0.        ],\n",
       "       [0.10044523],\n",
       "       [0.        ],\n",
       "       [0.        ],\n",
       "       [0.        ],\n",
       "       [0.        ],\n",
       "       [0.        ],\n",
       "       [0.        ],\n",
       "       [0.        ],\n",
       "       [0.        ],\n",
       "       [0.        ],\n",
       "       [0.        ],\n",
       "       [0.35583597],\n",
       "       [0.        ],\n",
       "       [0.40381167],\n",
       "       [0.        ],\n",
       "       [0.        ],\n",
       "       [0.10044866],\n",
       "       [0.10929145],\n",
       "       [0.10331671],\n",
       "       [0.10018513],\n",
       "       [0.42211352],\n",
       "       [0.11560204],\n",
       "       [0.11231411],\n",
       "       [0.11493581],\n",
       "       [0.11546704],\n",
       "       [0.09787522],\n",
       "       [0.        ],\n",
       "       [0.        ],\n",
       "       [0.43451901],\n",
       "       [0.        ],\n",
       "       [0.        ],\n",
       "       [0.        ],\n",
       "       [0.        ],\n",
       "       [0.10018513],\n",
       "       [0.1236929 ],\n",
       "       [0.11247785],\n",
       "       [0.35733198],\n",
       "       [0.        ],\n",
       "       [0.09583453],\n",
       "       [0.11560204],\n",
       "       [0.        ],\n",
       "       [0.10094942],\n",
       "       [0.10190269],\n",
       "       [0.35706032],\n",
       "       [0.36624789],\n",
       "       [0.        ],\n",
       "       [0.37810024],\n",
       "       [0.        ],\n",
       "       [0.        ],\n",
       "       [0.44964133],\n",
       "       [0.        ],\n",
       "       [0.40068607],\n",
       "       [0.43616858],\n",
       "       [0.        ],\n",
       "       [0.        ],\n",
       "       [0.43408835],\n",
       "       [0.41274584],\n",
       "       [0.        ],\n",
       "       [0.        ],\n",
       "       [0.        ],\n",
       "       [0.        ],\n",
       "       [0.11439254],\n",
       "       [0.11120463],\n",
       "       [0.40196564],\n",
       "       [0.        ],\n",
       "       [0.        ],\n",
       "       [0.        ],\n",
       "       [0.11603663],\n",
       "       [0.40783702],\n",
       "       [0.        ],\n",
       "       [0.        ],\n",
       "       [0.        ],\n",
       "       [0.38974109],\n",
       "       [0.        ],\n",
       "       [0.        ],\n",
       "       [0.        ],\n",
       "       [0.        ],\n",
       "       [0.        ],\n",
       "       [0.        ],\n",
       "       [0.10585402],\n",
       "       [0.4162081 ],\n",
       "       [0.11190881],\n",
       "       [0.10585402],\n",
       "       [0.        ],\n",
       "       [0.10929145],\n",
       "       [0.10153271],\n",
       "       [0.10115257],\n",
       "       [0.10929145],\n",
       "       [0.10929145],\n",
       "       [0.        ],\n",
       "       [0.10629289],\n",
       "       [0.45636144],\n",
       "       [0.        ],\n",
       "       [0.44063072],\n",
       "       [0.        ],\n",
       "       [0.        ],\n",
       "       [0.11205312],\n",
       "       [0.10932954],\n",
       "       [0.        ],\n",
       "       [0.11342542],\n",
       "       [0.        ],\n",
       "       [0.        ],\n",
       "       [0.20316124],\n",
       "       [0.32453032],\n",
       "       [0.19810081],\n",
       "       [0.11509065],\n",
       "       [0.        ],\n",
       "       [0.43557237],\n",
       "       [0.10726716],\n",
       "       [0.        ],\n",
       "       [0.43893785],\n",
       "       [0.        ],\n",
       "       [0.        ],\n",
       "       [0.        ],\n",
       "       [0.        ],\n",
       "       [0.12030186],\n",
       "       [0.        ],\n",
       "       [0.09922805],\n",
       "       [0.        ],\n",
       "       [0.11210821],\n",
       "       [0.10929145],\n",
       "       [0.11423993],\n",
       "       [0.11134746],\n",
       "       [0.11166627],\n",
       "       [0.        ],\n",
       "       [0.        ],\n",
       "       [0.49188878],\n",
       "       [0.        ],\n",
       "       [0.10963014],\n",
       "       [0.37355287],\n",
       "       [0.11319804],\n",
       "       [0.11039782],\n",
       "       [0.11687472],\n",
       "       [0.        ],\n",
       "       [0.10906451],\n",
       "       [0.34735241],\n",
       "       [0.38394193],\n",
       "       [0.3679512 ],\n",
       "       [0.11681947],\n",
       "       [0.40381167],\n",
       "       [0.46852702],\n",
       "       [0.44202192],\n",
       "       [0.        ],\n",
       "       [0.12093228],\n",
       "       [0.        ],\n",
       "       [0.        ],\n",
       "       [0.11619734],\n",
       "       [0.38173021],\n",
       "       [0.45677413],\n",
       "       [0.        ],\n",
       "       [0.        ],\n",
       "       [0.339353  ],\n",
       "       [0.39042479],\n",
       "       [0.11435704],\n",
       "       [0.        ],\n",
       "       [0.        ],\n",
       "       [0.        ],\n",
       "       [0.        ],\n",
       "       [0.        ],\n",
       "       [0.36415588],\n",
       "       [0.        ],\n",
       "       [0.10847403],\n",
       "       [0.32872662],\n",
       "       [0.11134746],\n",
       "       [0.4153407 ],\n",
       "       [0.11230777],\n",
       "       [0.        ],\n",
       "       [0.11134746],\n",
       "       [0.        ],\n",
       "       [0.11182324],\n",
       "       [0.33569221],\n",
       "       [0.        ],\n",
       "       [0.38014942],\n",
       "       [0.        ],\n",
       "       [0.        ],\n",
       "       [0.41801749],\n",
       "       [0.41869495],\n",
       "       [0.35388289],\n",
       "       [0.31327878],\n",
       "       [0.42846453],\n",
       "       [0.        ],\n",
       "       [0.        ],\n",
       "       [0.12599439],\n",
       "       [0.        ],\n",
       "       [0.        ],\n",
       "       [0.        ],\n",
       "       [0.        ],\n",
       "       [0.12384482],\n",
       "       [0.        ],\n",
       "       [0.        ],\n",
       "       [0.36704553],\n",
       "       [0.        ],\n",
       "       [0.12330943],\n",
       "       [0.        ]])"
      ]
     },
     "execution_count": 37,
     "metadata": {},
     "output_type": "execute_result"
    }
   ],
   "source": [
    "a = cosine_similarity(tfidf_matrix_train,tfidf_matrix_test)\n",
    "a"
   ]
  },
  {
   "cell_type": "code",
   "execution_count": 39,
   "metadata": {},
   "outputs": [],
   "source": [
    "index=np.argmax(a)"
   ]
  },
  {
   "cell_type": "code",
   "execution_count": 40,
   "metadata": {},
   "outputs": [
    {
     "name": "stdout",
     "output_type": "stream",
     "text": [
      "Following dishes are recomended\n"
     ]
    },
    {
     "data": {
      "text/plain": [
       "'Chili Crab, Char Kway Teow, Fish and Chips, Japanese Bento, Black Pepper Crab, Crab Bee Hoon Soup'"
      ]
     },
     "execution_count": 40,
     "metadata": {},
     "output_type": "execute_result"
    }
   ],
   "source": [
    "print('Following dishes are recomended')\n",
    "df[\"_Top_6_most_preferred_dishes\"][index]"
   ]
  },
  {
   "cell_type": "code",
   "execution_count": 34,
   "metadata": {},
   "outputs": [
    {
     "data": {
      "text/plain": [
       "'0'"
      ]
     },
     "execution_count": 34,
     "metadata": {},
     "output_type": "execute_result"
    }
   ],
   "source": [
    "df[\"Gender\"][index]"
   ]
  },
  {
   "cell_type": "code",
   "execution_count": 35,
   "metadata": {},
   "outputs": [
    {
     "data": {
      "text/plain": [
       "'3'"
      ]
     },
     "execution_count": 35,
     "metadata": {},
     "output_type": "execute_result"
    }
   ],
   "source": [
    "df[\"Age_Group\"][index]"
   ]
  }
 ],
 "metadata": {
  "kernelspec": {
   "display_name": "Python 3 (ipykernel)",
   "language": "python",
   "name": "python3"
  },
  "language_info": {
   "codemirror_mode": {
    "name": "ipython",
    "version": 3
   },
   "file_extension": ".py",
   "mimetype": "text/x-python",
   "name": "python",
   "nbconvert_exporter": "python",
   "pygments_lexer": "ipython3",
   "version": "3.11.3"
  }
 },
 "nbformat": 4,
 "nbformat_minor": 4
}
