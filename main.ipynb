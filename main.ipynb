{
 "cells": [
  {
   "cell_type": "code",
   "execution_count": 1,
   "metadata": {},
   "outputs": [],
   "source": [
    "import pandas as pd\n",
    "import numpy as np"
   ]
  },
  {
   "cell_type": "code",
   "execution_count": 2,
   "metadata": {},
   "outputs": [
    {
     "data": {
      "text/html": [
       "<div>\n",
       "<style scoped>\n",
       "    .dataframe tbody tr th:only-of-type {\n",
       "        vertical-align: middle;\n",
       "    }\n",
       "\n",
       "    .dataframe tbody tr th {\n",
       "        vertical-align: top;\n",
       "    }\n",
       "\n",
       "    .dataframe thead th {\n",
       "        text-align: right;\n",
       "    }\n",
       "</style>\n",
       "<table border=\"1\" class=\"dataframe\">\n",
       "  <thead>\n",
       "    <tr style=\"text-align: right;\">\n",
       "      <th></th>\n",
       "      <th>UserID</th>\n",
       "      <th>Gender</th>\n",
       "      <th>Age Group</th>\n",
       "      <th>Top 6 most preferred dishes</th>\n",
       "      <th>laksa</th>\n",
       "      <th>Chili Crab</th>\n",
       "      <th>Char Kway Teow</th>\n",
       "      <th>hainanese chicken rice</th>\n",
       "      <th>Sliced Fish Soup</th>\n",
       "      <th>Fish and Chips</th>\n",
       "      <th>...</th>\n",
       "      <th>Roti Prata</th>\n",
       "      <th>Black Pepper Crab</th>\n",
       "      <th>Roti John</th>\n",
       "      <th>Cereal Prawn</th>\n",
       "      <th>Beef Kway Teow</th>\n",
       "      <th>Katong laksa</th>\n",
       "      <th>Sambal Stingray</th>\n",
       "      <th>Crab Bee Hoon Soup</th>\n",
       "      <th>Satay</th>\n",
       "      <th>sum</th>\n",
       "    </tr>\n",
       "  </thead>\n",
       "  <tbody>\n",
       "    <tr>\n",
       "      <th>0</th>\n",
       "      <td>1</td>\n",
       "      <td>Female</td>\n",
       "      <td>15 - 24</td>\n",
       "      <td>Sliced Fish Soup, Japanese Bento,Curry laksa, ...</td>\n",
       "      <td>0</td>\n",
       "      <td>0</td>\n",
       "      <td>0</td>\n",
       "      <td>0</td>\n",
       "      <td>1</td>\n",
       "      <td>0</td>\n",
       "      <td>...</td>\n",
       "      <td>0</td>\n",
       "      <td>0</td>\n",
       "      <td>0</td>\n",
       "      <td>0</td>\n",
       "      <td>0</td>\n",
       "      <td>0</td>\n",
       "      <td>0</td>\n",
       "      <td>1</td>\n",
       "      <td>0</td>\n",
       "      <td>6</td>\n",
       "    </tr>\n",
       "    <tr>\n",
       "      <th>1</th>\n",
       "      <td>2</td>\n",
       "      <td>Male</td>\n",
       "      <td>15 - 24</td>\n",
       "      <td>Hainanese Chicken Rice, Fish and Chips, Japane...</td>\n",
       "      <td>0</td>\n",
       "      <td>0</td>\n",
       "      <td>0</td>\n",
       "      <td>1</td>\n",
       "      <td>0</td>\n",
       "      <td>1</td>\n",
       "      <td>...</td>\n",
       "      <td>0</td>\n",
       "      <td>0</td>\n",
       "      <td>0</td>\n",
       "      <td>1</td>\n",
       "      <td>0</td>\n",
       "      <td>0</td>\n",
       "      <td>0</td>\n",
       "      <td>0</td>\n",
       "      <td>0</td>\n",
       "      <td>6</td>\n",
       "    </tr>\n",
       "    <tr>\n",
       "      <th>2</th>\n",
       "      <td>3</td>\n",
       "      <td>Male</td>\n",
       "      <td>15 - 24</td>\n",
       "      <td>Char Kway Teow, Hainanese Chicken Rice, Fish a...</td>\n",
       "      <td>0</td>\n",
       "      <td>0</td>\n",
       "      <td>1</td>\n",
       "      <td>1</td>\n",
       "      <td>0</td>\n",
       "      <td>1</td>\n",
       "      <td>...</td>\n",
       "      <td>1</td>\n",
       "      <td>0</td>\n",
       "      <td>1</td>\n",
       "      <td>0</td>\n",
       "      <td>0</td>\n",
       "      <td>0</td>\n",
       "      <td>0</td>\n",
       "      <td>0</td>\n",
       "      <td>0</td>\n",
       "      <td>6</td>\n",
       "    </tr>\n",
       "    <tr>\n",
       "      <th>3</th>\n",
       "      <td>4</td>\n",
       "      <td>Female</td>\n",
       "      <td>15 - 24</td>\n",
       "      <td>Laksa , Hainanese Chicken Rice, Japanese Bento...</td>\n",
       "      <td>1</td>\n",
       "      <td>0</td>\n",
       "      <td>0</td>\n",
       "      <td>1</td>\n",
       "      <td>0</td>\n",
       "      <td>0</td>\n",
       "      <td>...</td>\n",
       "      <td>0</td>\n",
       "      <td>0</td>\n",
       "      <td>0</td>\n",
       "      <td>0</td>\n",
       "      <td>0</td>\n",
       "      <td>0</td>\n",
       "      <td>0</td>\n",
       "      <td>0</td>\n",
       "      <td>0</td>\n",
       "      <td>6</td>\n",
       "    </tr>\n",
       "    <tr>\n",
       "      <th>4</th>\n",
       "      <td>5</td>\n",
       "      <td>Female</td>\n",
       "      <td>15 - 24</td>\n",
       "      <td>Fish and Chips, Japanese Bento, Duck Rice, Hok...</td>\n",
       "      <td>0</td>\n",
       "      <td>0</td>\n",
       "      <td>0</td>\n",
       "      <td>0</td>\n",
       "      <td>0</td>\n",
       "      <td>1</td>\n",
       "      <td>...</td>\n",
       "      <td>0</td>\n",
       "      <td>1</td>\n",
       "      <td>0</td>\n",
       "      <td>1</td>\n",
       "      <td>0</td>\n",
       "      <td>0</td>\n",
       "      <td>0</td>\n",
       "      <td>0</td>\n",
       "      <td>0</td>\n",
       "      <td>6</td>\n",
       "    </tr>\n",
       "    <tr>\n",
       "      <th>...</th>\n",
       "      <td>...</td>\n",
       "      <td>...</td>\n",
       "      <td>...</td>\n",
       "      <td>...</td>\n",
       "      <td>...</td>\n",
       "      <td>...</td>\n",
       "      <td>...</td>\n",
       "      <td>...</td>\n",
       "      <td>...</td>\n",
       "      <td>...</td>\n",
       "      <td>...</td>\n",
       "      <td>...</td>\n",
       "      <td>...</td>\n",
       "      <td>...</td>\n",
       "      <td>...</td>\n",
       "      <td>...</td>\n",
       "      <td>...</td>\n",
       "      <td>...</td>\n",
       "      <td>...</td>\n",
       "      <td>...</td>\n",
       "      <td>...</td>\n",
       "    </tr>\n",
       "    <tr>\n",
       "      <th>354</th>\n",
       "      <td>355</td>\n",
       "      <td>Female</td>\n",
       "      <td>25 - 54</td>\n",
       "      <td>Laksa , Char Kway Teow, Hokkien Mee, Kway Chap...</td>\n",
       "      <td>1</td>\n",
       "      <td>0</td>\n",
       "      <td>1</td>\n",
       "      <td>0</td>\n",
       "      <td>0</td>\n",
       "      <td>0</td>\n",
       "      <td>...</td>\n",
       "      <td>1</td>\n",
       "      <td>0</td>\n",
       "      <td>0</td>\n",
       "      <td>0</td>\n",
       "      <td>0</td>\n",
       "      <td>0</td>\n",
       "      <td>0</td>\n",
       "      <td>0</td>\n",
       "      <td>1</td>\n",
       "      <td>6</td>\n",
       "    </tr>\n",
       "    <tr>\n",
       "      <th>355</th>\n",
       "      <td>356</td>\n",
       "      <td>Male</td>\n",
       "      <td>25 - 54</td>\n",
       "      <td>Chili Crab, Duck Rice, Fish Head Curry, Bak Ku...</td>\n",
       "      <td>0</td>\n",
       "      <td>1</td>\n",
       "      <td>0</td>\n",
       "      <td>0</td>\n",
       "      <td>0</td>\n",
       "      <td>0</td>\n",
       "      <td>...</td>\n",
       "      <td>0</td>\n",
       "      <td>0</td>\n",
       "      <td>0</td>\n",
       "      <td>0</td>\n",
       "      <td>0</td>\n",
       "      <td>0</td>\n",
       "      <td>0</td>\n",
       "      <td>0</td>\n",
       "      <td>1</td>\n",
       "      <td>6</td>\n",
       "    </tr>\n",
       "    <tr>\n",
       "      <th>356</th>\n",
       "      <td>357</td>\n",
       "      <td>Male</td>\n",
       "      <td>15 - 24</td>\n",
       "      <td>Laksa , Hainanese Chicken Rice, Fish and Chips...</td>\n",
       "      <td>1</td>\n",
       "      <td>0</td>\n",
       "      <td>0</td>\n",
       "      <td>1</td>\n",
       "      <td>0</td>\n",
       "      <td>1</td>\n",
       "      <td>...</td>\n",
       "      <td>1</td>\n",
       "      <td>0</td>\n",
       "      <td>0</td>\n",
       "      <td>0</td>\n",
       "      <td>0</td>\n",
       "      <td>0</td>\n",
       "      <td>0</td>\n",
       "      <td>0</td>\n",
       "      <td>0</td>\n",
       "      <td>6</td>\n",
       "    </tr>\n",
       "    <tr>\n",
       "      <th>357</th>\n",
       "      <td>358</td>\n",
       "      <td>Female</td>\n",
       "      <td>55 - 64</td>\n",
       "      <td>Laksa , Japanese Bento, Fish Head Curry, Kway ...</td>\n",
       "      <td>1</td>\n",
       "      <td>0</td>\n",
       "      <td>0</td>\n",
       "      <td>0</td>\n",
       "      <td>0</td>\n",
       "      <td>0</td>\n",
       "      <td>...</td>\n",
       "      <td>0</td>\n",
       "      <td>1</td>\n",
       "      <td>0</td>\n",
       "      <td>0</td>\n",
       "      <td>0</td>\n",
       "      <td>0</td>\n",
       "      <td>0</td>\n",
       "      <td>0</td>\n",
       "      <td>1</td>\n",
       "      <td>6</td>\n",
       "    </tr>\n",
       "    <tr>\n",
       "      <th>358</th>\n",
       "      <td>359</td>\n",
       "      <td>Male</td>\n",
       "      <td>14 and below</td>\n",
       "      <td>Laksa , Hainanese Chicken Rice, Fish and Chips...</td>\n",
       "      <td>1</td>\n",
       "      <td>0</td>\n",
       "      <td>0</td>\n",
       "      <td>1</td>\n",
       "      <td>0</td>\n",
       "      <td>1</td>\n",
       "      <td>...</td>\n",
       "      <td>1</td>\n",
       "      <td>0</td>\n",
       "      <td>0</td>\n",
       "      <td>0</td>\n",
       "      <td>0</td>\n",
       "      <td>0</td>\n",
       "      <td>0</td>\n",
       "      <td>0</td>\n",
       "      <td>0</td>\n",
       "      <td>6</td>\n",
       "    </tr>\n",
       "  </tbody>\n",
       "</table>\n",
       "<p>359 rows × 29 columns</p>\n",
       "</div>"
      ],
      "text/plain": [
       "     UserID  Gender     Age Group  \\\n",
       "0         1  Female       15 - 24   \n",
       "1         2    Male       15 - 24   \n",
       "2         3    Male       15 - 24   \n",
       "3         4  Female       15 - 24   \n",
       "4         5  Female       15 - 24   \n",
       "..      ...     ...           ...   \n",
       "354     355  Female       25 - 54   \n",
       "355     356    Male       25 - 54   \n",
       "356     357    Male       15 - 24   \n",
       "357     358  Female       55 - 64   \n",
       "358     359    Male  14 and below   \n",
       "\n",
       "                           Top 6 most preferred dishes  laksa  Chili Crab  \\\n",
       "0    Sliced Fish Soup, Japanese Bento,Curry laksa, ...      0           0   \n",
       "1    Hainanese Chicken Rice, Fish and Chips, Japane...      0           0   \n",
       "2    Char Kway Teow, Hainanese Chicken Rice, Fish a...      0           0   \n",
       "3    Laksa , Hainanese Chicken Rice, Japanese Bento...      1           0   \n",
       "4    Fish and Chips, Japanese Bento, Duck Rice, Hok...      0           0   \n",
       "..                                                 ...    ...         ...   \n",
       "354  Laksa , Char Kway Teow, Hokkien Mee, Kway Chap...      1           0   \n",
       "355  Chili Crab, Duck Rice, Fish Head Curry, Bak Ku...      0           1   \n",
       "356  Laksa , Hainanese Chicken Rice, Fish and Chips...      1           0   \n",
       "357  Laksa , Japanese Bento, Fish Head Curry, Kway ...      1           0   \n",
       "358  Laksa , Hainanese Chicken Rice, Fish and Chips...      1           0   \n",
       "\n",
       "     Char Kway Teow  hainanese chicken rice  Sliced Fish Soup  Fish and Chips  \\\n",
       "0                 0                       0                 1               0   \n",
       "1                 0                       1                 0               1   \n",
       "2                 1                       1                 0               1   \n",
       "3                 0                       1                 0               0   \n",
       "4                 0                       0                 0               1   \n",
       "..              ...                     ...               ...             ...   \n",
       "354               1                       0                 0               0   \n",
       "355               0                       0                 0               0   \n",
       "356               0                       1                 0               1   \n",
       "357               0                       0                 0               0   \n",
       "358               0                       1                 0               1   \n",
       "\n",
       "     ...  Roti Prata  Black Pepper Crab  Roti John  Cereal Prawn  \\\n",
       "0    ...           0                  0          0             0   \n",
       "1    ...           0                  0          0             1   \n",
       "2    ...           1                  0          1             0   \n",
       "3    ...           0                  0          0             0   \n",
       "4    ...           0                  1          0             1   \n",
       "..   ...         ...                ...        ...           ...   \n",
       "354  ...           1                  0          0             0   \n",
       "355  ...           0                  0          0             0   \n",
       "356  ...           1                  0          0             0   \n",
       "357  ...           0                  1          0             0   \n",
       "358  ...           1                  0          0             0   \n",
       "\n",
       "     Beef Kway Teow  Katong laksa  Sambal Stingray  Crab Bee Hoon Soup  Satay  \\\n",
       "0                 0             0                0                   1      0   \n",
       "1                 0             0                0                   0      0   \n",
       "2                 0             0                0                   0      0   \n",
       "3                 0             0                0                   0      0   \n",
       "4                 0             0                0                   0      0   \n",
       "..              ...           ...              ...                 ...    ...   \n",
       "354               0             0                0                   0      1   \n",
       "355               0             0                0                   0      1   \n",
       "356               0             0                0                   0      0   \n",
       "357               0             0                0                   0      1   \n",
       "358               0             0                0                   0      0   \n",
       "\n",
       "     sum  \n",
       "0      6  \n",
       "1      6  \n",
       "2      6  \n",
       "3      6  \n",
       "4      6  \n",
       "..   ...  \n",
       "354    6  \n",
       "355    6  \n",
       "356    6  \n",
       "357    6  \n",
       "358    6  \n",
       "\n",
       "[359 rows x 29 columns]"
      ]
     },
     "execution_count": 2,
     "metadata": {},
     "output_type": "execute_result"
    }
   ],
   "source": [
    "df = pd.read_csv('CollectedDataset.csv')\n",
    "df"
   ]
  },
  {
   "cell_type": "code",
   "execution_count": null,
   "metadata": {},
   "outputs": [],
   "source": []
  },
  {
   "cell_type": "code",
   "execution_count": 3,
   "metadata": {},
   "outputs": [
    {
     "data": {
      "text/plain": [
       "Index(['UserID', 'Gender', 'Age Group', ' Top 6 most preferred dishes',\n",
       "       'laksa', 'Chili Crab', 'Char Kway Teow', 'hainanese chicken rice',\n",
       "       'Sliced Fish Soup', 'Fish and Chips', 'Chinese Economy Rice',\n",
       "       'Japanese Bento', 'Curry laksa', 'Yu Sheng', 'Duck Rice',\n",
       "       'Fish Head Curry', 'Bak Kut Teh', 'Hokkien Mee', 'Kway Chap',\n",
       "       'Roti Prata', 'Black Pepper Crab', 'Roti John', 'Cereal Prawn',\n",
       "       'Beef Kway Teow', 'Katong laksa', 'Sambal Stingray',\n",
       "       'Crab Bee Hoon Soup', 'Satay', 'sum'],\n",
       "      dtype='object')"
      ]
     },
     "execution_count": 3,
     "metadata": {},
     "output_type": "execute_result"
    }
   ],
   "source": [
    "df.columns"
   ]
  },
  {
   "cell_type": "code",
   "execution_count": 4,
   "metadata": {},
   "outputs": [
    {
     "data": {
      "text/plain": [
       "(359, 29)"
      ]
     },
     "execution_count": 4,
     "metadata": {},
     "output_type": "execute_result"
    }
   ],
   "source": [
    "df.shape"
   ]
  },
  {
   "cell_type": "code",
   "execution_count": 5,
   "metadata": {},
   "outputs": [
    {
     "name": "stdout",
     "output_type": "stream",
     "text": [
      "<class 'pandas.core.frame.DataFrame'>\n",
      "RangeIndex: 359 entries, 0 to 358\n",
      "Data columns (total 29 columns):\n",
      " #   Column                        Non-Null Count  Dtype \n",
      "---  ------                        --------------  ----- \n",
      " 0   UserID                        359 non-null    int64 \n",
      " 1   Gender                        359 non-null    object\n",
      " 2   Age Group                     359 non-null    object\n",
      " 3    Top 6 most preferred dishes  359 non-null    object\n",
      " 4   laksa                         359 non-null    int64 \n",
      " 5   Chili Crab                    359 non-null    int64 \n",
      " 6   Char Kway Teow                359 non-null    int64 \n",
      " 7   hainanese chicken rice        359 non-null    int64 \n",
      " 8   Sliced Fish Soup              359 non-null    int64 \n",
      " 9   Fish and Chips                359 non-null    int64 \n",
      " 10  Chinese Economy Rice          359 non-null    int64 \n",
      " 11  Japanese Bento                359 non-null    int64 \n",
      " 12  Curry laksa                   359 non-null    int64 \n",
      " 13  Yu Sheng                      359 non-null    int64 \n",
      " 14  Duck Rice                     359 non-null    int64 \n",
      " 15  Fish Head Curry               359 non-null    int64 \n",
      " 16  Bak Kut Teh                   359 non-null    int64 \n",
      " 17  Hokkien Mee                   359 non-null    int64 \n",
      " 18  Kway Chap                     359 non-null    int64 \n",
      " 19  Roti Prata                    359 non-null    int64 \n",
      " 20  Black Pepper Crab             359 non-null    int64 \n",
      " 21  Roti John                     359 non-null    int64 \n",
      " 22  Cereal Prawn                  359 non-null    int64 \n",
      " 23  Beef Kway Teow                359 non-null    int64 \n",
      " 24  Katong laksa                  359 non-null    int64 \n",
      " 25  Sambal Stingray               359 non-null    int64 \n",
      " 26  Crab Bee Hoon Soup            359 non-null    int64 \n",
      " 27  Satay                         359 non-null    int64 \n",
      " 28  sum                           359 non-null    int64 \n",
      "dtypes: int64(26), object(3)\n",
      "memory usage: 81.5+ KB\n"
     ]
    }
   ],
   "source": [
    "df.info()"
   ]
  },
  {
   "cell_type": "code",
   "execution_count": 6,
   "metadata": {},
   "outputs": [
    {
     "data": {
      "text/html": [
       "<div>\n",
       "<style scoped>\n",
       "    .dataframe tbody tr th:only-of-type {\n",
       "        vertical-align: middle;\n",
       "    }\n",
       "\n",
       "    .dataframe tbody tr th {\n",
       "        vertical-align: top;\n",
       "    }\n",
       "\n",
       "    .dataframe thead th {\n",
       "        text-align: right;\n",
       "    }\n",
       "</style>\n",
       "<table border=\"1\" class=\"dataframe\">\n",
       "  <thead>\n",
       "    <tr style=\"text-align: right;\">\n",
       "      <th></th>\n",
       "      <th>UserID</th>\n",
       "      <th>laksa</th>\n",
       "      <th>Chili Crab</th>\n",
       "      <th>Char Kway Teow</th>\n",
       "      <th>hainanese chicken rice</th>\n",
       "      <th>Sliced Fish Soup</th>\n",
       "      <th>Fish and Chips</th>\n",
       "      <th>Chinese Economy Rice</th>\n",
       "      <th>Japanese Bento</th>\n",
       "      <th>Curry laksa</th>\n",
       "      <th>...</th>\n",
       "      <th>Roti Prata</th>\n",
       "      <th>Black Pepper Crab</th>\n",
       "      <th>Roti John</th>\n",
       "      <th>Cereal Prawn</th>\n",
       "      <th>Beef Kway Teow</th>\n",
       "      <th>Katong laksa</th>\n",
       "      <th>Sambal Stingray</th>\n",
       "      <th>Crab Bee Hoon Soup</th>\n",
       "      <th>Satay</th>\n",
       "      <th>sum</th>\n",
       "    </tr>\n",
       "  </thead>\n",
       "  <tbody>\n",
       "    <tr>\n",
       "      <th>count</th>\n",
       "      <td>359.000000</td>\n",
       "      <td>359.000000</td>\n",
       "      <td>359.000000</td>\n",
       "      <td>359.000000</td>\n",
       "      <td>359.000000</td>\n",
       "      <td>359.000000</td>\n",
       "      <td>359.000000</td>\n",
       "      <td>359.000000</td>\n",
       "      <td>359.000000</td>\n",
       "      <td>359.000000</td>\n",
       "      <td>...</td>\n",
       "      <td>359.000000</td>\n",
       "      <td>359.000000</td>\n",
       "      <td>359.000000</td>\n",
       "      <td>359.000000</td>\n",
       "      <td>359.000000</td>\n",
       "      <td>359.000000</td>\n",
       "      <td>359.000000</td>\n",
       "      <td>359.000000</td>\n",
       "      <td>359.000000</td>\n",
       "      <td>359.0</td>\n",
       "    </tr>\n",
       "    <tr>\n",
       "      <th>mean</th>\n",
       "      <td>180.000000</td>\n",
       "      <td>0.339833</td>\n",
       "      <td>0.284123</td>\n",
       "      <td>0.342618</td>\n",
       "      <td>0.523677</td>\n",
       "      <td>0.403900</td>\n",
       "      <td>0.323120</td>\n",
       "      <td>0.284123</td>\n",
       "      <td>0.353760</td>\n",
       "      <td>0.153203</td>\n",
       "      <td>...</td>\n",
       "      <td>0.284123</td>\n",
       "      <td>0.136490</td>\n",
       "      <td>0.077994</td>\n",
       "      <td>0.214485</td>\n",
       "      <td>0.077994</td>\n",
       "      <td>0.164345</td>\n",
       "      <td>0.239554</td>\n",
       "      <td>0.233983</td>\n",
       "      <td>0.214485</td>\n",
       "      <td>6.0</td>\n",
       "    </tr>\n",
       "    <tr>\n",
       "      <th>std</th>\n",
       "      <td>103.778611</td>\n",
       "      <td>0.474313</td>\n",
       "      <td>0.451625</td>\n",
       "      <td>0.475247</td>\n",
       "      <td>0.500136</td>\n",
       "      <td>0.491363</td>\n",
       "      <td>0.468321</td>\n",
       "      <td>0.451625</td>\n",
       "      <td>0.478803</td>\n",
       "      <td>0.360686</td>\n",
       "      <td>...</td>\n",
       "      <td>0.451625</td>\n",
       "      <td>0.343788</td>\n",
       "      <td>0.268537</td>\n",
       "      <td>0.411037</td>\n",
       "      <td>0.268537</td>\n",
       "      <td>0.371106</td>\n",
       "      <td>0.427407</td>\n",
       "      <td>0.423953</td>\n",
       "      <td>0.411037</td>\n",
       "      <td>0.0</td>\n",
       "    </tr>\n",
       "    <tr>\n",
       "      <th>min</th>\n",
       "      <td>1.000000</td>\n",
       "      <td>0.000000</td>\n",
       "      <td>0.000000</td>\n",
       "      <td>0.000000</td>\n",
       "      <td>0.000000</td>\n",
       "      <td>0.000000</td>\n",
       "      <td>0.000000</td>\n",
       "      <td>0.000000</td>\n",
       "      <td>0.000000</td>\n",
       "      <td>0.000000</td>\n",
       "      <td>...</td>\n",
       "      <td>0.000000</td>\n",
       "      <td>0.000000</td>\n",
       "      <td>0.000000</td>\n",
       "      <td>0.000000</td>\n",
       "      <td>0.000000</td>\n",
       "      <td>0.000000</td>\n",
       "      <td>0.000000</td>\n",
       "      <td>0.000000</td>\n",
       "      <td>0.000000</td>\n",
       "      <td>6.0</td>\n",
       "    </tr>\n",
       "    <tr>\n",
       "      <th>25%</th>\n",
       "      <td>90.500000</td>\n",
       "      <td>0.000000</td>\n",
       "      <td>0.000000</td>\n",
       "      <td>0.000000</td>\n",
       "      <td>0.000000</td>\n",
       "      <td>0.000000</td>\n",
       "      <td>0.000000</td>\n",
       "      <td>0.000000</td>\n",
       "      <td>0.000000</td>\n",
       "      <td>0.000000</td>\n",
       "      <td>...</td>\n",
       "      <td>0.000000</td>\n",
       "      <td>0.000000</td>\n",
       "      <td>0.000000</td>\n",
       "      <td>0.000000</td>\n",
       "      <td>0.000000</td>\n",
       "      <td>0.000000</td>\n",
       "      <td>0.000000</td>\n",
       "      <td>0.000000</td>\n",
       "      <td>0.000000</td>\n",
       "      <td>6.0</td>\n",
       "    </tr>\n",
       "    <tr>\n",
       "      <th>50%</th>\n",
       "      <td>180.000000</td>\n",
       "      <td>0.000000</td>\n",
       "      <td>0.000000</td>\n",
       "      <td>0.000000</td>\n",
       "      <td>1.000000</td>\n",
       "      <td>0.000000</td>\n",
       "      <td>0.000000</td>\n",
       "      <td>0.000000</td>\n",
       "      <td>0.000000</td>\n",
       "      <td>0.000000</td>\n",
       "      <td>...</td>\n",
       "      <td>0.000000</td>\n",
       "      <td>0.000000</td>\n",
       "      <td>0.000000</td>\n",
       "      <td>0.000000</td>\n",
       "      <td>0.000000</td>\n",
       "      <td>0.000000</td>\n",
       "      <td>0.000000</td>\n",
       "      <td>0.000000</td>\n",
       "      <td>0.000000</td>\n",
       "      <td>6.0</td>\n",
       "    </tr>\n",
       "    <tr>\n",
       "      <th>75%</th>\n",
       "      <td>269.500000</td>\n",
       "      <td>1.000000</td>\n",
       "      <td>1.000000</td>\n",
       "      <td>1.000000</td>\n",
       "      <td>1.000000</td>\n",
       "      <td>1.000000</td>\n",
       "      <td>1.000000</td>\n",
       "      <td>1.000000</td>\n",
       "      <td>1.000000</td>\n",
       "      <td>0.000000</td>\n",
       "      <td>...</td>\n",
       "      <td>1.000000</td>\n",
       "      <td>0.000000</td>\n",
       "      <td>0.000000</td>\n",
       "      <td>0.000000</td>\n",
       "      <td>0.000000</td>\n",
       "      <td>0.000000</td>\n",
       "      <td>0.000000</td>\n",
       "      <td>0.000000</td>\n",
       "      <td>0.000000</td>\n",
       "      <td>6.0</td>\n",
       "    </tr>\n",
       "    <tr>\n",
       "      <th>max</th>\n",
       "      <td>359.000000</td>\n",
       "      <td>1.000000</td>\n",
       "      <td>1.000000</td>\n",
       "      <td>1.000000</td>\n",
       "      <td>1.000000</td>\n",
       "      <td>1.000000</td>\n",
       "      <td>1.000000</td>\n",
       "      <td>1.000000</td>\n",
       "      <td>1.000000</td>\n",
       "      <td>1.000000</td>\n",
       "      <td>...</td>\n",
       "      <td>1.000000</td>\n",
       "      <td>1.000000</td>\n",
       "      <td>1.000000</td>\n",
       "      <td>1.000000</td>\n",
       "      <td>1.000000</td>\n",
       "      <td>1.000000</td>\n",
       "      <td>1.000000</td>\n",
       "      <td>1.000000</td>\n",
       "      <td>1.000000</td>\n",
       "      <td>6.0</td>\n",
       "    </tr>\n",
       "  </tbody>\n",
       "</table>\n",
       "<p>8 rows × 26 columns</p>\n",
       "</div>"
      ],
      "text/plain": [
       "           UserID       laksa  Chili Crab  Char Kway Teow  \\\n",
       "count  359.000000  359.000000  359.000000      359.000000   \n",
       "mean   180.000000    0.339833    0.284123        0.342618   \n",
       "std    103.778611    0.474313    0.451625        0.475247   \n",
       "min      1.000000    0.000000    0.000000        0.000000   \n",
       "25%     90.500000    0.000000    0.000000        0.000000   \n",
       "50%    180.000000    0.000000    0.000000        0.000000   \n",
       "75%    269.500000    1.000000    1.000000        1.000000   \n",
       "max    359.000000    1.000000    1.000000        1.000000   \n",
       "\n",
       "       hainanese chicken rice  Sliced Fish Soup  Fish and Chips  \\\n",
       "count              359.000000        359.000000      359.000000   \n",
       "mean                 0.523677          0.403900        0.323120   \n",
       "std                  0.500136          0.491363        0.468321   \n",
       "min                  0.000000          0.000000        0.000000   \n",
       "25%                  0.000000          0.000000        0.000000   \n",
       "50%                  1.000000          0.000000        0.000000   \n",
       "75%                  1.000000          1.000000        1.000000   \n",
       "max                  1.000000          1.000000        1.000000   \n",
       "\n",
       "       Chinese Economy Rice  Japanese Bento  Curry laksa  ...  Roti Prata  \\\n",
       "count            359.000000      359.000000   359.000000  ...  359.000000   \n",
       "mean               0.284123        0.353760     0.153203  ...    0.284123   \n",
       "std                0.451625        0.478803     0.360686  ...    0.451625   \n",
       "min                0.000000        0.000000     0.000000  ...    0.000000   \n",
       "25%                0.000000        0.000000     0.000000  ...    0.000000   \n",
       "50%                0.000000        0.000000     0.000000  ...    0.000000   \n",
       "75%                1.000000        1.000000     0.000000  ...    1.000000   \n",
       "max                1.000000        1.000000     1.000000  ...    1.000000   \n",
       "\n",
       "       Black Pepper Crab   Roti John  Cereal Prawn  Beef Kway Teow  \\\n",
       "count         359.000000  359.000000    359.000000      359.000000   \n",
       "mean            0.136490    0.077994      0.214485        0.077994   \n",
       "std             0.343788    0.268537      0.411037        0.268537   \n",
       "min             0.000000    0.000000      0.000000        0.000000   \n",
       "25%             0.000000    0.000000      0.000000        0.000000   \n",
       "50%             0.000000    0.000000      0.000000        0.000000   \n",
       "75%             0.000000    0.000000      0.000000        0.000000   \n",
       "max             1.000000    1.000000      1.000000        1.000000   \n",
       "\n",
       "       Katong laksa  Sambal Stingray  Crab Bee Hoon Soup       Satay    sum  \n",
       "count    359.000000       359.000000          359.000000  359.000000  359.0  \n",
       "mean       0.164345         0.239554            0.233983    0.214485    6.0  \n",
       "std        0.371106         0.427407            0.423953    0.411037    0.0  \n",
       "min        0.000000         0.000000            0.000000    0.000000    6.0  \n",
       "25%        0.000000         0.000000            0.000000    0.000000    6.0  \n",
       "50%        0.000000         0.000000            0.000000    0.000000    6.0  \n",
       "75%        0.000000         0.000000            0.000000    0.000000    6.0  \n",
       "max        1.000000         1.000000            1.000000    1.000000    6.0  \n",
       "\n",
       "[8 rows x 26 columns]"
      ]
     },
     "execution_count": 6,
     "metadata": {},
     "output_type": "execute_result"
    }
   ],
   "source": [
    "df.describe()"
   ]
  },
  {
   "cell_type": "code",
   "execution_count": 7,
   "metadata": {},
   "outputs": [
    {
     "data": {
      "text/plain": [
       "UserID                          0\n",
       "Gender                          0\n",
       "Age Group                       0\n",
       " Top 6 most preferred dishes    0\n",
       "laksa                           0\n",
       "Chili Crab                      0\n",
       "Char Kway Teow                  0\n",
       "hainanese chicken rice          0\n",
       "Sliced Fish Soup                0\n",
       "Fish and Chips                  0\n",
       "Chinese Economy Rice            0\n",
       "Japanese Bento                  0\n",
       "Curry laksa                     0\n",
       "Yu Sheng                        0\n",
       "Duck Rice                       0\n",
       "Fish Head Curry                 0\n",
       "Bak Kut Teh                     0\n",
       "Hokkien Mee                     0\n",
       "Kway Chap                       0\n",
       "Roti Prata                      0\n",
       "Black Pepper Crab               0\n",
       "Roti John                       0\n",
       "Cereal Prawn                    0\n",
       "Beef Kway Teow                  0\n",
       "Katong laksa                    0\n",
       "Sambal Stingray                 0\n",
       "Crab Bee Hoon Soup              0\n",
       "Satay                           0\n",
       "sum                             0\n",
       "dtype: int64"
      ]
     },
     "execution_count": 7,
     "metadata": {},
     "output_type": "execute_result"
    }
   ],
   "source": [
    "df.isnull().sum()"
   ]
  },
  {
   "cell_type": "markdown",
   "metadata": {},
   "source": [
    "\n",
    "# Since there is no null data , No data filling is required for our dataset"
   ]
  },
  {
   "cell_type": "code",
   "execution_count": 8,
   "metadata": {},
   "outputs": [
    {
     "data": {
      "text/plain": [
       "Index(['UserID', 'Gender', 'Age_Group', '_Top_6_most_preferred_dishes',\n",
       "       'laksa', 'Chili_Crab', 'Char_Kway_Teow', 'hainanese_chicken_rice',\n",
       "       'Sliced_Fish_Soup', 'Fish_and_Chips', 'Chinese_Economy_Rice',\n",
       "       'Japanese_Bento', 'Curry_laksa', 'Yu_Sheng', 'Duck_Rice',\n",
       "       'Fish_Head_Curry', 'Bak_Kut_Teh', 'Hokkien_Mee', 'Kway_Chap',\n",
       "       'Roti_Prata', 'Black_Pepper_Crab', 'Roti_John', 'Cereal_Prawn',\n",
       "       'Beef_Kway_Teow', 'Katong_laksa', 'Sambal_Stingray',\n",
       "       'Crab_Bee_Hoon_Soup', 'Satay', 'sum'],\n",
       "      dtype='object')"
      ]
     },
     "execution_count": 8,
     "metadata": {},
     "output_type": "execute_result"
    }
   ],
   "source": [
    "df.columns = df.columns.str.replace(' ','_')\n",
    "df.columns"
   ]
  },
  {
   "cell_type": "code",
   "execution_count": 9,
   "metadata": {},
   "outputs": [
    {
     "data": {
      "image/png": "[encoded data removed]",
      "text/plain": [
       "<Figure size 800x500 with 1 Axes>"
      ]
     },
     "metadata": {},
     "output_type": "display_data"
    }
   ],
   "source": [
    "import matplotlib.pyplot as plt\n",
    "graph = df['Age_Group'].value_counts().plot(kind='barh', figsize=[8,5], fontsize=15, color = \"Red\" , legend=\"cas\")\n",
    "\n",
    "\n",
    "graph.invert_yaxis()"
   ]
  },
  {
   "cell_type": "code",
   "execution_count": 10,
   "metadata": {},
   "outputs": [
    {
     "data": {
      "text/plain": [
       "<Axes: >"
      ]
     },
     "execution_count": 10,
     "metadata": {},
     "output_type": "execute_result"
    },
    {
     "data": {
      "image/png": "[encoded data removed]",
      "text/plain": [
       "<Figure size 1000x1200 with 1 Axes>"
      ]
     },
     "metadata": {},
     "output_type": "display_data"
    }
   ],
   "source": [
    "import matplotlib.pyplot as plt\n",
    "df[\"Age_Group\"].value_counts().plot(kind = \"pie\" , \n",
    "               figsize =[10,12], autopct='%1.1f%%' ,ylabel= \"\" )"
   ]
  },
  {
   "cell_type": "code",
   "execution_count": 11,
   "metadata": {},
   "outputs": [
    {
     "data": {
      "text/plain": [
       "array(['15 - 24', '14 and below', '25 - 54', '55 - 64', '65 and above'],\n",
       "      dtype=object)"
      ]
     },
     "execution_count": 11,
     "metadata": {},
     "output_type": "execute_result"
    }
   ],
   "source": [
    "df[\"Age_Group\"].unique()"
   ]
  },
  {
   "cell_type": "code",
   "execution_count": 12,
   "metadata": {},
   "outputs": [],
   "source": [
    "df[\"Age_Group\"]=df[\"Age_Group\"].map({'15 - 24':\"1\",\n",
    "'14 and below':\"2\",'25 - 54':\"3\",'55 - 64':\"4\",'65 and above':\"5\"})"
   ]
  },
  {
   "cell_type": "code",
   "execution_count": 13,
   "metadata": {},
   "outputs": [
    {
     "data": {
      "text/plain": [
       "0      1\n",
       "1      1\n",
       "2      1\n",
       "3      1\n",
       "4      1\n",
       "      ..\n",
       "354    3\n",
       "355    3\n",
       "356    1\n",
       "357    4\n",
       "358    2\n",
       "Name: Age_Group, Length: 359, dtype: object"
      ]
     },
     "execution_count": 13,
     "metadata": {},
     "output_type": "execute_result"
    }
   ],
   "source": [
    "df[\"Age_Group\"]"
   ]
  },
  {
   "cell_type": "code",
   "execution_count": 14,
   "metadata": {},
   "outputs": [],
   "source": [
    "df[\"Gender\"] = df[\"Gender\"].map({\"Female\" : \"0\" , \"Male\" : \"1\"})"
   ]
  },
  {
   "cell_type": "code",
   "execution_count": 15,
   "metadata": {},
   "outputs": [
    {
     "data": {
      "text/plain": [
       "0      0\n",
       "1      1\n",
       "2      1\n",
       "3      0\n",
       "4      0\n",
       "      ..\n",
       "354    0\n",
       "355    1\n",
       "356    1\n",
       "357    0\n",
       "358    1\n",
       "Name: Gender, Length: 359, dtype: object"
      ]
     },
     "execution_count": 15,
     "metadata": {},
     "output_type": "execute_result"
    }
   ],
   "source": [
    "df[\"Gender\"]"
   ]
  },
  {
   "cell_type": "code",
   "execution_count": null,
   "metadata": {},
   "outputs": [],
   "source": []
  },
  {
   "cell_type": "code",
   "execution_count": null,
   "metadata": {},
   "outputs": [],
   "source": []
  },
  {
   "cell_type": "code",
   "execution_count": 16,
   "metadata": {},
   "outputs": [
    {
     "data": {
      "text/plain": [
       "0      Sliced Fish Soup, Japanese Bento,Curry laksa, ...\n",
       "1      Hainanese Chicken Rice, Fish and Chips, Japane...\n",
       "2      Char Kway Teow, Hainanese Chicken Rice, Fish a...\n",
       "3      Laksa , Hainanese Chicken Rice, Japanese Bento...\n",
       "4      Fish and Chips, Japanese Bento, Duck Rice, Hok...\n",
       "                             ...                        \n",
       "354    Laksa , Char Kway Teow, Hokkien Mee, Kway Chap...\n",
       "355    Chili Crab, Duck Rice, Fish Head Curry, Bak Ku...\n",
       "356    Laksa , Hainanese Chicken Rice, Fish and Chips...\n",
       "357    Laksa , Japanese Bento, Fish Head Curry, Kway ...\n",
       "358    Laksa , Hainanese Chicken Rice, Fish and Chips...\n",
       "Name: _Top_6_most_preferred_dishes, Length: 359, dtype: object"
      ]
     },
     "execution_count": 16,
     "metadata": {},
     "output_type": "execute_result"
    }
   ],
   "source": [
    "df[\"_Top_6_most_preferred_dishes\"]"
   ]
  },
  {
   "cell_type": "markdown",
   "metadata": {},
   "source": [
    "# This Creates a new Column with an object type"
   ]
  },
  {
   "cell_type": "code",
   "execution_count": 17,
   "metadata": {},
   "outputs": [],
   "source": [
    "df[\"var\"] = df[\"Age_Group\"]+\" \"+df[\"Gender\"]+' '+df[\"_Top_6_most_preferred_dishes\"]"
   ]
  },
  {
   "cell_type": "code",
   "execution_count": 18,
   "metadata": {},
   "outputs": [
    {
     "data": {
      "text/plain": [
       "0      1 0 Sliced Fish Soup, Japanese Bento,Curry lak...\n",
       "1      1 1 Hainanese Chicken Rice, Fish and Chips, Ja...\n",
       "2      1 1 Char Kway Teow, Hainanese Chicken Rice, Fi...\n",
       "3      1 0 Laksa , Hainanese Chicken Rice, Japanese B...\n",
       "4      1 0 Fish and Chips, Japanese Bento, Duck Rice,...\n",
       "                             ...                        \n",
       "354    3 0 Laksa , Char Kway Teow, Hokkien Mee, Kway ...\n",
       "355    3 1 Chili Crab, Duck Rice, Fish Head Curry, Ba...\n",
       "356    1 1 Laksa , Hainanese Chicken Rice, Fish and C...\n",
       "357    4 0 Laksa , Japanese Bento, Fish Head Curry, K...\n",
       "358    2 1 Laksa , Hainanese Chicken Rice, Fish and C...\n",
       "Name: var, Length: 359, dtype: object"
      ]
     },
     "execution_count": 18,
     "metadata": {},
     "output_type": "execute_result"
    }
   ],
   "source": [
    "df[\"var\"]"
   ]
  },
  {
   "cell_type": "code",
   "execution_count": null,
   "metadata": {},
   "outputs": [],
   "source": []
  },
  {
   "cell_type": "code",
   "execution_count": null,
   "metadata": {},
   "outputs": [],
   "source": []
  },
  {
   "cell_type": "code",
   "execution_count": null,
   "metadata": {},
   "outputs": [],
   "source": []
  },
  {
   "cell_type": "code",
   "execution_count": null,
   "metadata": {},
   "outputs": [],
   "source": []
  },
  {
   "cell_type": "markdown",
   "metadata": {},
   "source": [
    "# We Take preference from our user"
   ]
  },
  {
   "cell_type": "code",
   "execution_count": 19,
   "metadata": {},
   "outputs": [
    {
     "data": {
      "text/plain": [
       "'2'"
      ]
     },
     "execution_count": 19,
     "metadata": {},
     "output_type": "execute_result"
    }
   ],
   "source": [
    "def Get_age():\n",
    "    while True:\n",
    "        try:\n",
    "            age = int(input(\"Enter Your Age :: \"))\n",
    "            if (age<=14):\n",
    "                return 1\n",
    "            elif ((age>=15) and (age<=24)):\n",
    "                return 2\n",
    "            elif ((age>=25 and age<=54)):\n",
    "                return 3\n",
    "            elif ((age>=55 and age<=64)):\n",
    "                return 4\n",
    "            else:\n",
    "                return 5\n",
    "        except ValueError:\n",
    "            print(\"Enter an Integer only !!\")\n",
    "            continue\n",
    "\n",
    "age = str(Get_age())\n",
    "age"
   ]
  },
  {
   "cell_type": "code",
   "execution_count": 20,
   "metadata": {},
   "outputs": [],
   "source": [
    "# if (age<=14):\n",
    "#     age_group='1'\n",
    "# elif ((age>=15) & (age<=24)):\n",
    "#     age_group='2'\n",
    "# elif (age>=25 & age<=54):\n",
    "#     age_group='3'\n",
    "# elif (age>=55 & age<=64):\n",
    "#     age_group='4'\n",
    "# else:\n",
    "#     age_group='5'"
   ]
  },
  {
   "cell_type": "code",
   "execution_count": 21,
   "metadata": {},
   "outputs": [],
   "source": [
    "# print(age_group)"
   ]
  },
  {
   "cell_type": "code",
   "execution_count": 22,
   "metadata": {},
   "outputs": [
    {
     "data": {
      "text/plain": [
       "'1'"
      ]
     },
     "execution_count": 22,
     "metadata": {},
     "output_type": "execute_result"
    }
   ],
   "source": [
    "def Getgen():\n",
    "    while True :\n",
    "        gender = input(\"Enter your gender :: \")\n",
    "        gender = gender.capitalize()\n",
    "        if gender == \"Male\":\n",
    "            return \"1\"\n",
    "        elif gender == \"Female\":\n",
    "            return \"0\"\n",
    "        else :\n",
    "            print(\"Enter Only Male or Female\")\n",
    "\n",
    "gender = Getgen()\n",
    "gender"
   ]
  },
  {
   "cell_type": "code",
   "execution_count": 23,
   "metadata": {},
   "outputs": [],
   "source": [
    "# gender = input(\"please enter your gender\")\n",
    "# gender = gender.capitalize()\n",
    "# gender"
   ]
  },
  {
   "cell_type": "code",
   "execution_count": 24,
   "metadata": {},
   "outputs": [
    {
     "data": {
      "text/plain": [
       "'Laksa'"
      ]
     },
     "execution_count": 24,
     "metadata": {},
     "output_type": "execute_result"
    }
   ],
   "source": [
    "dish = input(\"Enter One preferred Dish Name :: \").title()\n",
    "dish"
   ]
  },
  {
   "cell_type": "code",
   "execution_count": 25,
   "metadata": {},
   "outputs": [],
   "source": [
    "# dish= input(\"please enter one dish\")\n",
    "# dish = dish.capitalize()"
   ]
  },
  {
   "cell_type": "markdown",
   "metadata": {},
   "source": [
    "## This variable is going to be transformed into numbers \n"
   ]
  },
  {
   "cell_type": "code",
   "execution_count": 26,
   "metadata": {},
   "outputs": [
    {
     "data": {
      "text/plain": [
       "'2 1 Laksa'"
      ]
     },
     "execution_count": 26,
     "metadata": {},
     "output_type": "execute_result"
    }
   ],
   "source": [
    "inp = age + ' ' + gender + ' '+ dish\n",
    "inp"
   ]
  },
  {
   "cell_type": "markdown",
   "metadata": {},
   "source": [
    "## TfidfVectorizer is used to turn the food names into numbers/vectors"
   ]
  },
  {
   "cell_type": "code",
   "execution_count": 27,
   "metadata": {},
   "outputs": [],
   "source": [
    "from sklearn.feature_extraction.text import TfidfVectorizer"
   ]
  },
  {
   "cell_type": "markdown",
   "metadata": {},
   "source": [
    "## initallizeing our class\n"
   ]
  },
  {
   "cell_type": "code",
   "execution_count": 28,
   "metadata": {},
   "outputs": [],
   "source": [
    "vectorizer = TfidfVectorizer()"
   ]
  },
  {
   "cell_type": "markdown",
   "metadata": {},
   "source": [
    "## We use this vectorizer to turn our set of food names into a matrix i.e sets of numbers"
   ]
  },
  {
   "cell_type": "code",
   "execution_count": 29,
   "metadata": {},
   "outputs": [],
   "source": [
    "tfidf_matrix_train = vectorizer.fit_transform(df['var'])"
   ]
  },
  {
   "cell_type": "code",
   "execution_count": 30,
   "metadata": {},
   "outputs": [
    {
     "data": {
      "text/plain": [
       "<359x43 sparse matrix of type '<class 'numpy.float64'>'\n",
       "\twith 4829 stored elements in Compressed Sparse Row format>"
      ]
     },
     "execution_count": 30,
     "metadata": {},
     "output_type": "execute_result"
    }
   ],
   "source": [
    "tfidf_matrix_train"
   ]
  },
  {
   "cell_type": "markdown",
   "metadata": {},
   "source": [
    "## We use this vectorizer to turn our preference into a matrix i.e sets of numbers"
   ]
  },
  {
   "cell_type": "code",
   "execution_count": 31,
   "metadata": {},
   "outputs": [
    {
     "data": {
      "text/plain": [
       "<1x43 sparse matrix of type '<class 'numpy.float64'>'\n",
       "\twith 1 stored elements in Compressed Sparse Row format>"
      ]
     },
     "execution_count": 31,
     "metadata": {},
     "output_type": "execute_result"
    }
   ],
   "source": [
    "tfidf_matrix_test = vectorizer.transform([inp])\n",
    "\n",
    "tfidf_matrix_test"
   ]
  },
  {
   "cell_type": "markdown",
   "metadata": {},
   "source": [
    "## This Cosine_similarity is used to compute the similarity btw our preference and top most preferred\n"
   ]
  },
  {
   "cell_type": "code",
   "execution_count": 32,
   "metadata": {},
   "outputs": [],
   "source": [
    "from sklearn.metrics.pairwise import cosine_similarity"
   ]
  },
  {
   "cell_type": "markdown",
   "metadata": {},
   "source": [
    "## This will compare our preference with the \"var\" \n"
   ]
  },
  {
   "cell_type": "code",
   "execution_count": 33,
   "metadata": {},
   "outputs": [],
   "source": [
    "a = cosine_similarity(tfidf_matrix_train,tfidf_matrix_test)"
   ]
  },
  {
   "cell_type": "code",
   "execution_count": 46,
   "metadata": {},
   "outputs": [
    {
     "data": {
      "text/plain": [
       "array([[0.20502203],\n",
       "       [0.        ],\n",
       "       [0.        ],\n",
       "       [0.45335525],\n",
       "       [0.        ],\n",
       "       [0.        ],\n",
       "       [0.19739376],\n",
       "       [0.22448629],\n",
       "       [0.24477922],\n",
       "       [0.        ],\n",
       "       [0.        ],\n",
       "       [0.        ],\n",
       "       [0.        ],\n",
       "       [0.21931732],\n",
       "       [0.23506101],\n",
       "       [0.        ],\n",
       "       [0.45779436],\n",
       "       [0.        ],\n",
       "       [0.24339973],\n",
       "       [0.23426106],\n",
       "       [0.        ],\n",
       "       [0.        ],\n",
       "       [0.19734306],\n",
       "       [0.23646637],\n",
       "       [0.23113462],\n",
       "       [0.21990993],\n",
       "       [0.        ],\n",
       "       [0.        ],\n",
       "       [0.59249058],\n",
       "       [0.        ],\n",
       "       [0.        ],\n",
       "       [0.21259979],\n",
       "       [0.191235  ],\n",
       "       [0.        ],\n",
       "       [0.        ],\n",
       "       [0.        ],\n",
       "       [0.5938982 ],\n",
       "       [0.        ],\n",
       "       [0.        ],\n",
       "       [0.22391852],\n",
       "       [0.39014291],\n",
       "       [0.        ],\n",
       "       [0.21248391],\n",
       "       [0.22417068],\n",
       "       [0.17919529],\n",
       "       [0.        ],\n",
       "       [0.        ],\n",
       "       [0.        ],\n",
       "       [0.        ],\n",
       "       [0.        ],\n",
       "       [0.4490202 ],\n",
       "       [0.3874882 ],\n",
       "       [0.        ],\n",
       "       [0.22953286],\n",
       "       [0.        ],\n",
       "       [0.23998115],\n",
       "       [0.23314145],\n",
       "       [0.22897439],\n",
       "       [0.23481423],\n",
       "       [0.39798226],\n",
       "       [0.        ],\n",
       "       [0.20522186],\n",
       "       [0.        ],\n",
       "       [0.        ],\n",
       "       [0.19847316],\n",
       "       [0.23218138],\n",
       "       [0.42727801],\n",
       "       [0.        ],\n",
       "       [0.21957226],\n",
       "       [0.        ],\n",
       "       [0.21388587],\n",
       "       [0.19406074],\n",
       "       [0.19709097],\n",
       "       [0.18499438],\n",
       "       [0.18670797],\n",
       "       [0.39576568],\n",
       "       [0.25288768],\n",
       "       [0.        ],\n",
       "       [0.        ],\n",
       "       [0.40300537],\n",
       "       [0.        ],\n",
       "       [0.4432936 ],\n",
       "       [0.        ],\n",
       "       [0.19426972],\n",
       "       [0.        ],\n",
       "       [0.        ],\n",
       "       [0.        ],\n",
       "       [0.        ],\n",
       "       [0.        ],\n",
       "       [0.37132575],\n",
       "       [0.        ],\n",
       "       [0.        ],\n",
       "       [0.23800577],\n",
       "       [0.        ],\n",
       "       [0.        ],\n",
       "       [0.22229059],\n",
       "       [0.        ],\n",
       "       [0.21855207],\n",
       "       [0.        ],\n",
       "       [0.        ],\n",
       "       [0.24191741],\n",
       "       [0.22348259],\n",
       "       [0.        ],\n",
       "       [0.23500084],\n",
       "       [0.        ],\n",
       "       [0.        ],\n",
       "       [0.        ],\n",
       "       [0.2351925 ],\n",
       "       [0.        ],\n",
       "       [0.        ],\n",
       "       [0.        ],\n",
       "       [0.2131565 ],\n",
       "       [0.22983434],\n",
       "       [0.22582781],\n",
       "       [0.21572289],\n",
       "       [0.4094654 ],\n",
       "       [0.46404452],\n",
       "       [0.        ],\n",
       "       [0.        ],\n",
       "       [0.21644678],\n",
       "       [0.        ],\n",
       "       [0.19728575],\n",
       "       [0.45315699],\n",
       "       [0.        ],\n",
       "       [0.        ],\n",
       "       [0.23281976],\n",
       "       [0.22622956],\n",
       "       [0.20579892],\n",
       "       [0.43221953],\n",
       "       [0.        ],\n",
       "       [0.18803805],\n",
       "       [0.        ],\n",
       "       [0.2105021 ],\n",
       "       [0.        ],\n",
       "       [0.        ],\n",
       "       [0.41359669],\n",
       "       [0.20431491],\n",
       "       [0.        ],\n",
       "       [0.        ],\n",
       "       [0.20831825],\n",
       "       [0.        ],\n",
       "       [0.        ],\n",
       "       [0.        ],\n",
       "       [0.        ],\n",
       "       [0.21011402],\n",
       "       [0.        ],\n",
       "       [0.18760778],\n",
       "       [0.        ],\n",
       "       [0.51849854],\n",
       "       [0.        ],\n",
       "       [0.55138936],\n",
       "       [0.        ],\n",
       "       [0.23473072],\n",
       "       [0.39445212],\n",
       "       [0.19199295],\n",
       "       [0.        ],\n",
       "       [0.18974321],\n",
       "       [0.55378876],\n",
       "       [0.        ],\n",
       "       [0.        ],\n",
       "       [0.20199915],\n",
       "       [0.23978898],\n",
       "       [0.        ],\n",
       "       [0.        ],\n",
       "       [0.        ],\n",
       "       [0.17231552],\n",
       "       [0.21353509],\n",
       "       [0.21594749],\n",
       "       [0.        ],\n",
       "       [0.21825305],\n",
       "       [0.        ],\n",
       "       [0.23911758],\n",
       "       [0.2268137 ],\n",
       "       [0.23969476],\n",
       "       [0.19987699],\n",
       "       [0.        ],\n",
       "       [0.42293936],\n",
       "       [0.        ],\n",
       "       [0.23998115],\n",
       "       [0.        ],\n",
       "       [0.22300651],\n",
       "       [0.        ],\n",
       "       [0.        ],\n",
       "       [0.17724158],\n",
       "       [0.        ],\n",
       "       [0.        ],\n",
       "       [0.19831728],\n",
       "       [0.        ],\n",
       "       [0.19717434],\n",
       "       [0.        ],\n",
       "       [0.        ],\n",
       "       [0.1920402 ],\n",
       "       [0.        ],\n",
       "       [0.1917902 ],\n",
       "       [0.39822932],\n",
       "       [0.19222584],\n",
       "       [0.        ],\n",
       "       [0.19066698],\n",
       "       [0.        ],\n",
       "       [0.21219729],\n",
       "       [0.        ],\n",
       "       [0.21235874],\n",
       "       [0.        ],\n",
       "       [0.        ],\n",
       "       [0.19831728],\n",
       "       [0.48742367],\n",
       "       [0.        ],\n",
       "       [0.        ],\n",
       "       [0.2121973 ],\n",
       "       [0.        ],\n",
       "       [0.        ],\n",
       "       [0.        ],\n",
       "       [0.22176973],\n",
       "       [0.44693842],\n",
       "       [0.39692994],\n",
       "       [0.22570758],\n",
       "       [0.17685685],\n",
       "       [0.1925183 ],\n",
       "       [0.        ],\n",
       "       [0.21344333],\n",
       "       [0.19160012],\n",
       "       [0.18217985],\n",
       "       [0.39964082],\n",
       "       [0.        ],\n",
       "       [0.        ],\n",
       "       [0.20348651],\n",
       "       [0.        ],\n",
       "       [0.19077345],\n",
       "       [0.17742163],\n",
       "       [0.        ],\n",
       "       [0.538411  ],\n",
       "       [0.        ],\n",
       "       [0.        ],\n",
       "       [0.        ],\n",
       "       [0.        ],\n",
       "       [0.        ],\n",
       "       [0.44854658],\n",
       "       [0.        ],\n",
       "       [0.        ],\n",
       "       [0.2279087 ],\n",
       "       [0.        ],\n",
       "       [0.20183459],\n",
       "       [0.        ],\n",
       "       [0.        ],\n",
       "       [0.        ],\n",
       "       [0.        ],\n",
       "       [0.        ],\n",
       "       [0.        ],\n",
       "       [0.        ],\n",
       "       [0.        ],\n",
       "       [0.        ],\n",
       "       [0.        ],\n",
       "       [0.        ],\n",
       "       [0.        ],\n",
       "       [0.19787151],\n",
       "       [0.        ],\n",
       "       [0.20143113],\n",
       "       [0.        ],\n",
       "       [0.19448782],\n",
       "       [0.        ],\n",
       "       [0.        ],\n",
       "       [0.38445808],\n",
       "       [0.18755669],\n",
       "       [0.18652201],\n",
       "       [0.38916649],\n",
       "       [0.20576339],\n",
       "       [0.53508175],\n",
       "       [0.17426329],\n",
       "       [0.19286505],\n",
       "       [0.        ],\n",
       "       [0.        ],\n",
       "       [0.        ],\n",
       "       [0.        ],\n",
       "       [0.        ],\n",
       "       [0.22176973],\n",
       "       [0.19374061],\n",
       "       [0.        ],\n",
       "       [0.        ],\n",
       "       [0.        ],\n",
       "       [0.18544532],\n",
       "       [0.        ],\n",
       "       [0.23207242],\n",
       "       [0.        ],\n",
       "       [0.41260428],\n",
       "       [0.        ],\n",
       "       [0.        ],\n",
       "       [0.19598055],\n",
       "       [0.38203693],\n",
       "       [0.1915654 ],\n",
       "       [0.19381872],\n",
       "       [0.        ],\n",
       "       [0.        ],\n",
       "       [0.20665082],\n",
       "       [0.18807238],\n",
       "       [0.22199865],\n",
       "       [0.38838635],\n",
       "       [0.        ],\n",
       "       [0.40100115],\n",
       "       [0.22799263],\n",
       "       [0.18710203],\n",
       "       [0.20642799],\n",
       "       [0.        ],\n",
       "       [0.        ],\n",
       "       [0.        ],\n",
       "       [0.23998115],\n",
       "       [0.20680083],\n",
       "       [0.19510188],\n",
       "       [0.22598468],\n",
       "       [0.20746139],\n",
       "       [0.        ],\n",
       "       [0.22902958],\n",
       "       [0.        ],\n",
       "       [0.22685836],\n",
       "       [0.20161328],\n",
       "       [0.2267865 ],\n",
       "       [0.        ],\n",
       "       [0.        ],\n",
       "       [0.23202546],\n",
       "       [0.        ],\n",
       "       [0.21662326],\n",
       "       [0.        ],\n",
       "       [0.2224625 ],\n",
       "       [0.        ],\n",
       "       [0.        ],\n",
       "       [0.21641412],\n",
       "       [0.39682807],\n",
       "       [0.        ],\n",
       "       [0.19535887],\n",
       "       [0.38203693],\n",
       "       [0.        ],\n",
       "       [0.1926659 ],\n",
       "       [0.2171514 ],\n",
       "       [0.38203693],\n",
       "       [0.        ],\n",
       "       [0.        ],\n",
       "       [0.        ],\n",
       "       [0.17038812],\n",
       "       [0.        ],\n",
       "       [0.21768645],\n",
       "       [0.2070224 ],\n",
       "       [0.        ],\n",
       "       [0.        ],\n",
       "       [0.        ],\n",
       "       [0.55853512],\n",
       "       [0.        ],\n",
       "       [0.        ],\n",
       "       [0.41120542],\n",
       "       [0.21614553],\n",
       "       [0.21886315],\n",
       "       [0.24339973],\n",
       "       [0.22230645],\n",
       "       [0.        ],\n",
       "       [0.21245791],\n",
       "       [0.20470889],\n",
       "       [0.22811121],\n",
       "       [0.        ],\n",
       "       [0.23207242],\n",
       "       [0.21153943],\n",
       "       [0.22571659]])"
      ]
     },
     "execution_count": 46,
     "metadata": {},
     "output_type": "execute_result"
    }
   ],
   "source": [
    "a"
   ]
  },
  {
   "cell_type": "code",
   "execution_count": 43,
   "metadata": {},
   "outputs": [
    {
     "data": {
      "text/plain": [
       "36"
      ]
     },
     "execution_count": 43,
     "metadata": {},
     "output_type": "execute_result"
    }
   ],
   "source": [
    "index=np.argmax(a)\n",
    "index"
   ]
  },
  {
   "cell_type": "code",
   "execution_count": 35,
   "metadata": {},
   "outputs": [
    {
     "name": "stdout",
     "output_type": "stream",
     "text": [
      "Following dishes are recomended\n"
     ]
    },
    {
     "data": {
      "text/plain": [
       "'Laksa , Hainanese Chicken Rice, Japanese Bento,Curry laksa, Roti John, Katong laksa '"
      ]
     },
     "execution_count": 35,
     "metadata": {},
     "output_type": "execute_result"
    }
   ],
   "source": [
    "print('Following dishes are recomended')\n",
    "df[\"_Top_6_most_preferred_dishes\"][index]"
   ]
  },
  {
   "cell_type": "code",
   "execution_count": 36,
   "metadata": {},
   "outputs": [
    {
     "data": {
      "text/plain": [
       "'1'"
      ]
     },
     "execution_count": 36,
     "metadata": {},
     "output_type": "execute_result"
    }
   ],
   "source": [
    "df[\"Gender\"][index]"
   ]
  },
  {
   "cell_type": "code",
   "execution_count": 37,
   "metadata": {},
   "outputs": [
    {
     "data": {
      "text/plain": [
       "'3'"
      ]
     },
     "execution_count": 37,
     "metadata": {},
     "output_type": "execute_result"
    }
   ],
   "source": [
    "df[\"Age_Group\"][index]"
   ]
  },
  {
   "cell_type": "code",
   "execution_count": null,
   "metadata": {},
   "outputs": [],
   "source": []
  },
  {
   "cell_type": "code",
   "execution_count": null,
   "metadata": {},
   "outputs": [],
   "source": []
  }
 ],
 "metadata": {
  "kernelspec": {
   "display_name": "Python 3 (ipykernel)",
   "language": "python",
   "name": "python3"
  },
  "language_info": {
   "codemirror_mode": {
    "name": "ipython",
    "version": 3
   },
   "file_extension": ".py",
   "mimetype": "text/x-python",
   "name": "python",
   "nbconvert_exporter": "python",
   "pygments_lexer": "ipython3",
   "version": "3.11.3"
  }
 },
 "nbformat": 4,
 "nbformat_minor": 4
}
